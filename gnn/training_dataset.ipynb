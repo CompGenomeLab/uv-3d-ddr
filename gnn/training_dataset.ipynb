{
 "cells": [
  {
   "cell_type": "code",
   "execution_count": 1,
   "id": "2f3163c6-6733-4199-a4c6-3a894b01dcd8",
   "metadata": {},
   "outputs": [],
   "source": [
    "import numpy as np\n",
    "import multiprocessing\n",
    "import tqdm\n",
    "\n",
    "import sys\n",
    "\n",
    "import utils\n",
    "from data import _hic_dataset_pyg"
   ]
  },
  {
   "cell_type": "code",
   "execution_count": 3,
   "id": "8f1a0f75-95c9-4766-ac96-a35f07205296",
   "metadata": {},
   "outputs": [],
   "source": [
    "# we define the parameters for the preprocessing step.\n",
    "nProc = 24\n",
    "\n",
    "nMin_node = (\n",
    "    31 + 1\n",
    ")  # target graph will have min of 32 nodes so that we can remove 1 node and still have 31 nodes for query graph\n",
    "nMax_node = 51\n",
    "use_prcnt = 20\n",
    "\n",
    "npz_path = \"matrix/HeLa_10000.obs_exp_qt.npz\"\n",
    "samples = [\"4DNFIBM9QCFG\"]  # Samples to include in the training dataset"
   ]
  },
  {
   "cell_type": "code",
   "execution_count": 4,
   "id": "77762a4c",
   "metadata": {},
   "outputs": [],
   "source": [
    "# Get the keys for the npz file that contains the samples for training\n",
    "npz = np.load(npz_path)\n",
    "npz_keys = [k for k in npz.files if k.split(\"-\")[0] in samples]"
   ]
  },
  {
   "cell_type": "code",
   "execution_count": 5,
   "id": "3bbeb4c3",
   "metadata": {},
   "outputs": [
    {
     "name": "stderr",
     "output_type": "stream",
     "text": [
      "100%|██████████| 46/46 [05:55<00:00,  7.72s/it]\n"
     ]
    }
   ],
   "source": [
    "# Construct the training dataset for the GNN model, in which the synthetic graphs will be sampled.\n",
    "args = tqdm.tqdm(\n",
    "    [(npz[k], nMin_node, nMax_node, None, use_prcnt, None) for k in npz_keys]\n",
    ")\n",
    "\n",
    "with multiprocessing.Pool(processes=nProc) as pool:\n",
    "    results = pool.starmap(utils.constGraphList, args)\n",
    "\n",
    "# 23 * 2 = 46 chromosome arms"
   ]
  },
  {
   "cell_type": "code",
   "execution_count": 6,
   "id": "2850c137-9b16-440f-80df-671feaa54ace",
   "metadata": {},
   "outputs": [],
   "source": [
    "# pack constructed graphs into a data_list\n",
    "# tup is a tuple of (graph_list, corresponding matrix indexes)\n",
    "data_list = [g for tup in results for g in tup[0]]"
   ]
  },
  {
   "cell_type": "code",
   "execution_count": 7,
   "id": "63101247-636b-4ce9-977d-6d018e7f6367",
   "metadata": {},
   "outputs": [
    {
     "name": "stderr",
     "output_type": "stream",
     "text": [
      "Processing...\n",
      "Done!\n"
     ]
    },
    {
     "data": {
      "text/plain": [
       "_hic_dataset_pyg(48162)"
      ]
     },
     "execution_count": 7,
     "metadata": {},
     "output_type": "execute_result"
    }
   ],
   "source": [
    "# Create an InMemoryDataset for training from the graphs in the data_list, an optimal way to save graph datasets\n",
    "root = f\"matrix/hic_{'_'.join([s for s in samples])}_nMax{nMax_node}_nMin{nMin_node}_perc{use_prcnt}_log10\"\n",
    "_hic_dataset_pyg(root=root, data_list=data_list)"
   ]
  }
 ],
 "metadata": {
  "kernelspec": {
   "display_name": "gnn",
   "language": "python",
   "name": "python3"
  },
  "language_info": {
   "codemirror_mode": {
    "name": "ipython",
    "version": 3
   },
   "file_extension": ".py",
   "mimetype": "text/x-python",
   "name": "python",
   "nbconvert_exporter": "python",
   "pygments_lexer": "ipython3",
   "version": "3.11.0"
  }
 },
 "nbformat": 4,
 "nbformat_minor": 5
}
