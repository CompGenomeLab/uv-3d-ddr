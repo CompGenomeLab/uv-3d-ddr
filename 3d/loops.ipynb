{
 "cells": [
  {
   "cell_type": "markdown",
   "metadata": {},
   "source": [
    "## Libraries"
   ]
  },
  {
   "cell_type": "code",
   "execution_count": 1,
   "id": "1852afb3-0c8f-454c-91f4-61afab4bac98",
   "metadata": {
    "tags": []
   },
   "outputs": [
    {
     "name": "stderr",
     "output_type": "stream",
     "text": [
      "/home/carlos/miniconda3/envs/gnn/lib/python3.11/site-packages/cooltools/lib/numutils.py:651: NumbaDeprecationWarning: The 'nopython' keyword argument was not supplied to the 'numba.jit' decorator. The implicit default value for this argument is currently False, but it will be changed to True in Numba 0.59.0. See https://numba.readthedocs.io/en/stable/reference/deprecation.html#deprecation-of-object-mode-fall-back-behaviour-when-using-jit for details.\n",
      "  @numba.jit  # (nopython=True)\n",
      "/home/carlos/miniconda3/envs/gnn/lib/python3.11/site-packages/cooltools/lib/numutils.py:726: NumbaDeprecationWarning: The 'nopython' keyword argument was not supplied to the 'numba.jit' decorator. The implicit default value for this argument is currently False, but it will be changed to True in Numba 0.59.0. See https://numba.readthedocs.io/en/stable/reference/deprecation.html#deprecation-of-object-mode-fall-back-behaviour-when-using-jit for details.\n",
      "  @numba.jit  # (nopython=True)\n"
     ]
    }
   ],
   "source": [
    "import pandas as pd\n",
    "import numpy as np\n",
    "from itertools import chain\n",
    "import os.path\n",
    "\n",
    "# Hi-C utilities imports:\n",
    "import cooler\n",
    "import bioframe\n",
    "import cooltools\n",
    "from cooltools.lib.numutils import fill_diag\n",
    "from packaging import version\n",
    "import bbi\n",
    "\n",
    "from coolpuppy import coolpup\n",
    "from coolpuppy.lib import numutils\n",
    "from coolpuppy.lib.puputils import divide_pups\n",
    "from coolpuppy import plotpup\n",
    "\n",
    "import itertools\n",
    "\n",
    "import warnings\n",
    "warnings.filterwarnings(\"ignore\", category=FutureWarning)\n",
    "\n",
    "import matplotlib.pyplot as plt\n",
    "\n",
    "plt.rcParams[\"figure.dpi\"] = 600\n",
    "import seaborn as sns\n",
    "\n",
    "from itertools import combinations"
   ]
  },
  {
   "cell_type": "markdown",
   "metadata": {},
   "source": [
    "## Data Prep"
   ]
  },
  {
   "cell_type": "code",
   "execution_count": 2,
   "id": "8808bffe",
   "metadata": {},
   "outputs": [],
   "source": [
    "resolution = 10_000\n",
    "nproc = 8\n",
    "tolerance = 10_000\n",
    "use_round_kernels = False\n",
    "cluster_filtering = True\n",
    "samples = [\"t0\", \"t12\", \"t30\", \"t60\"]"
   ]
  },
  {
   "cell_type": "code",
   "execution_count": 3,
   "id": "e515b3bd-9fc5-4305-a75a-1fb6c66f7e90",
   "metadata": {},
   "outputs": [],
   "source": [
    "clrs_ = [\n",
    "    cooler.Cooler(\n",
    "        f\"/home/carlos/Desktop/manuscripts/notebooks/matrices/{sample}_q30.mcool::resolutions/10000\"\n",
    "    )\n",
    "    for sample in samples\n",
    "]"
   ]
  },
  {
   "cell_type": "code",
   "execution_count": 4,
   "id": "522b9d0f",
   "metadata": {},
   "outputs": [],
   "source": [
    "hg38_chromsizes = bioframe.fetch_chromsizes(\"hg38\")\n",
    "hg38_cens = bioframe.fetch_centromeres(\"hg38\")\n",
    "hg38_arms = bioframe.make_chromarms(hg38_chromsizes, hg38_cens)\n",
    "hg38_arms = hg38_arms.set_index(\"chrom\").loc[clrs_[0].chromnames].reset_index()\n",
    "\n",
    "\n",
    "if not os.path.exists(f\"expected_t0.{resolution}.csv\"):\n",
    "    # intra-arm expected\n",
    "    expected_ = [\n",
    "        cooltools.expected_cis(\n",
    "            clr,\n",
    "            view_df=hg38_arms,\n",
    "            nproc=nproc,\n",
    "        )\n",
    "        for clr in clrs_\n",
    "    ]\n",
    "\n",
    "    for sample, exp_df in zip(samples, expected_):\n",
    "        exp_df.to_csv(f\"expected_{sample}.{resolution}.csv\", index=False)\n",
    "else:\n",
    "    expected_ = [\n",
    "        pd.read_csv(f\"expected_{sample}.{resolution}.csv\")\n",
    "        for sample in samples\n",
    "    ]"
   ]
  },
  {
   "cell_type": "code",
   "execution_count": 5,
   "id": "883d99b7",
   "metadata": {},
   "outputs": [
    {
     "name": "stderr",
     "output_type": "stream",
     "text": [
      "INFO:root:Using recommended donut-based kernels with w=5, p=2 for binsize=10000\n"
     ]
    },
    {
     "name": "stdout",
     "output_type": "stream",
     "text": [
      "Using round kernels: False\n",
      "Cluster filtering: True\n"
     ]
    }
   ],
   "source": [
    "kernels_main = cooltools.api.dotfinder.recommend_kernels(resolution)\n",
    "\n",
    "if use_round_kernels:\n",
    "    half = 5\n",
    "    x, y = np.meshgrid(\n",
    "        np.linspace(-half, half, 2*half + 1),\n",
    "        np.linspace(-half, half, 2*half + 1),\n",
    "    )\n",
    "    mask = (x**2+y**2 > 7) & (x**2+y**2 <= 30)\n",
    "    mask[:,half] = 0\n",
    "    mask[half,:] = 0\n",
    "\n",
    "    mask_ll = mask.copy()\n",
    "    mask_ll[:,:half] = 0\n",
    "    mask_ll[half:,:] = 0\n",
    "\n",
    "    kernels = {'donut': mask,\n",
    "    'vertical': kernels_main[\"vertical\"].copy(),\n",
    "    'horizontal': kernels_main[\"horizontal\"].copy(),\n",
    "    'lowleft': mask_ll}\n",
    "else:\n",
    "    kernels = kernels_main\n",
    "\n",
    "if not os.path.exists(f\"t0_cf{cluster_filtering}_roundKernels{use_round_kernels}_dots.tsv\"):\n",
    "    print(f\"Using round kernels: {use_round_kernels}\")\n",
    "    print(f\"Cluster filtering: {cluster_filtering}\")\n",
    "    dots_df_ = [\n",
    "        cooltools.dots(\n",
    "            clr,\n",
    "            expected=expected,\n",
    "            view_df=hg38_arms,\n",
    "            max_loci_separation=10_000_000,\n",
    "            nproc=nproc,\n",
    "            cluster_filtering=True,\n",
    "            kernels = kernels,\n",
    "        ) for clr, expected in zip(clrs_, expected_)\n",
    "        ]\n",
    "    for df, sample in zip(dots_df_, samples):\n",
    "            df.to_csv(f\"{sample}_cf{cluster_filtering}_roundKernels{use_round_kernels}_dots.tsv\", index=False, sep=\"\\t\")\n",
    "else:\n",
    "    print(f\"Using round kernels: {use_round_kernels}\")\n",
    "    print(f\"Cluster filtering: {cluster_filtering}\")\n",
    "    dots_df_ = [\n",
    "        pd.read_csv(f\"{sample}_cf{cluster_filtering}_roundKernels{use_round_kernels}_dots.tsv\", sep=\"\\t\")\n",
    "        for sample in samples\n",
    "    ]"
   ]
  },
  {
   "cell_type": "markdown",
   "metadata": {},
   "source": [
    "## Dots Ops"
   ]
  },
  {
   "cell_type": "code",
   "execution_count": 6,
   "id": "065de690",
   "metadata": {},
   "outputs": [],
   "source": [
    "def prepare_merged_anchor(dots_df_, min_dist=50_000):\n",
    "    loops_df_list = [df.iloc[:, :6] for df in dots_df_]\n",
    "    all_dots = pd.concat(loops_df_list).drop_duplicates()\n",
    "    anchors1 = all_dots.iloc[:, :3]\n",
    "    anchors2 = all_dots.iloc[:, 3:6]\n",
    "    anchors1.columns = [\"chrom\", \"start\", \"end\"]\n",
    "    anchors2.columns = [\"chrom\", \"start\", \"end\"]\n",
    "    all_anchors = pd.concat([anchors1, anchors2]).drop_duplicates().reset_index(drop=True)\n",
    "    all_anchors = bioframe.merge(all_anchors, min_dist=min_dist)\n",
    "    return all_anchors, loops_df_list\n",
    "\n",
    "def overlap_to_all_anchors(loops_df_list, all_anchors):\n",
    "    for i, df in enumerate(loops_df_list):\n",
    "        anchors1 = df.iloc[:, :3]\n",
    "        anchors2 = df.iloc[:, 3:6]\n",
    "        anchors1.columns = [\"chrom\", \"start\", \"end\"]\n",
    "        anchors2.columns = [\"chrom\", \"start\", \"end\"]\n",
    "\n",
    "        overlap1 = bioframe.overlap(anchors1, all_anchors, return_index=True)\n",
    "        overlap2 = bioframe.overlap(anchors2, all_anchors, return_index=True)\n",
    "\n",
    "        loops_df_list[i].loc[:, \"anchor1\"] = overlap1.loc[:, \"index_\"]\n",
    "        loops_df_list[i].loc[:, \"anchor2\"] = overlap2.loc[:, \"index_\"]\n",
    "\n",
    "        loops_df_list[i].sort_values([\"anchor1\", \"anchor2\"], inplace=True)\n",
    "        loops_df_list[i].drop_duplicates(subset=[\"anchor1\", \"anchor2\"], inplace=True)\n",
    "\n",
    "    return loops_df_list"
   ]
  },
  {
   "cell_type": "code",
   "execution_count": 7,
   "id": "a1f0d3cd",
   "metadata": {},
   "outputs": [
    {
     "data": {
      "text/plain": [
       "n_intervals\n",
       "1     5408\n",
       "2     2611\n",
       "3     1206\n",
       "4      545\n",
       "5      211\n",
       "6       84\n",
       "7       62\n",
       "8       15\n",
       "9        7\n",
       "10       5\n",
       "11       3\n",
       "13       3\n",
       "19       1\n",
       "dtype: int64"
      ]
     },
     "execution_count": 7,
     "metadata": {},
     "output_type": "execute_result"
    }
   ],
   "source": [
    "min_dist = 50_000\n",
    "\n",
    "all_anchors, loops_df_list = prepare_merged_anchor(dots_df_= dots_df_, min_dist = min_dist)\n",
    "loops_df_list = overlap_to_all_anchors(loops_df_list, all_anchors)\n",
    "all_anchors.groupby(\"n_intervals\").size()"
   ]
  },
  {
   "cell_type": "markdown",
   "id": "2ba57634",
   "metadata": {},
   "source": [
    "## Venn"
   ]
  },
  {
   "cell_type": "code",
   "execution_count": 8,
   "id": "87c7c1cc",
   "metadata": {},
   "outputs": [
    {
     "data": {
      "image/png": "[encoded data removed]",
      "text/plain": [
       "<Figure size 720x1440 with 2 Axes>"
      ]
     },
     "metadata": {},
     "output_type": "display_data"
    }
   ],
   "source": [
    "import venn\n",
    "cmap = [\"#465775\", \"#A63446\", \"#F5B841\", \"#9DBBAE\"]\n",
    "alpha = 0.60\n",
    "\n",
    "# LOOPS\n",
    "venn_df_all = {}\n",
    "\n",
    "for dots_df, s in zip(loops_df_list, samples):\n",
    "\n",
    "    rows_as_tuples = [f\"{row[6]}-{row[7]}\" for index, row in dots_df.iterrows()]\n",
    "    venn_df_all[s] = set(rows_as_tuples)\n",
    "\n",
    "fig, ax = plt.subplots(\n",
    "    nrows=2,\n",
    "    ncols=1,\n",
    "    figsize=(10, 20),\n",
    "    gridspec_kw={\"hspace\": 0.1},\n",
    ")\n",
    "v = venn.venn(\n",
    "    venn_df_all,\n",
    "    fontsize=18,\n",
    "    fmt=\"{percentage:.1f}%\",\n",
    "    cmap=cmap,\n",
    "    legend_loc=None,\n",
    "    ax=ax[0],\n",
    "    alpha=alpha,\n",
    ")\n",
    "\n",
    "\n",
    "# draw venn diagram for anchors\n",
    "\n",
    "anchors_dfs_dict = {}\n",
    "for dots_df, s in zip(loops_df_list, samples):\n",
    "    anchors_dfs_dict[s] = set()\n",
    "    for i, entry in dots_df.iterrows():\n",
    "        anchors_dfs_dict[s].add(entry[6])\n",
    "        anchors_dfs_dict[s].add(entry[7])\n",
    "\n",
    "venn.venn(\n",
    "    anchors_dfs_dict,\n",
    "    fontsize=18,\n",
    "    fmt=\"{percentage:.1f}%\",\n",
    "    cmap=cmap,\n",
    "    legend_loc=None,\n",
    "\tax=ax[1],\n",
    "    alpha=alpha,\n",
    ")\n",
    "\n",
    "plt.tight_layout()\n",
    "plt.savefig(\"loops_anchors_venn.svg\")"
   ]
  },
  {
   "cell_type": "code",
   "execution_count": 9,
   "id": "a80afd27",
   "metadata": {},
   "outputs": [
    {
     "name": "stdout",
     "output_type": "stream",
     "text": [
      "('t0', 't12')\n",
      "('t0', 't30')\n",
      "('t0', 't60')\n",
      "('t12', 't30')\n",
      "('t12', 't60')\n",
      "('t30', 't60')\n"
     ]
    }
   ],
   "source": [
    "import dots_common\n",
    "\n",
    "min_dist = 50_000\n",
    "combs = list(itertools.product(samples, samples))\n",
    "prev = []\n",
    "loops_comp_ = {}\n",
    "anchors_comp_ = {}\n",
    "for comb in combs:\n",
    "    if comb[0] != comb[1] and comb[::-1] not in prev:\n",
    "        prev.append(comb)  \n",
    "        print(comb)      \n",
    "        i1, i2 = samples.index(comb[0]), samples.index(comb[1])\n",
    "        loops_comp_[comb] = dots_common.findUniqueCommonLoops(dots_df_[i1], dots_df_[i2], accepted_range = min_dist, merge_common = True)\n",
    "        anchors_comp_[comb] = dots_common.findUniqueCommonAnchors(dots_df_[i1], dots_df_[i2], accepted_range = min_dist, merge_common = True)"
   ]
  },
  {
   "cell_type": "code",
   "execution_count": 10,
   "id": "50ae8b8d",
   "metadata": {},
   "outputs": [],
   "source": [
    "for comb in loops_comp_:\n",
    "    for k in loops_comp_[comb]:\n",
    "        loops_comp_[comb][k] = loops_comp_[comb][k].drop_duplicates([\"chrom1\", \"start1\", \"start2\"])\n",
    "\n",
    "for comb in anchors_comp_:\n",
    "    for k in anchors_comp_[comb]:\n",
    "        anchors_comp_[comb][k] = anchors_comp_[comb][k].drop_duplicates([\"chrom\", \"start\"])"
   ]
  },
  {
   "cell_type": "code",
   "execution_count": 11,
   "id": "627e3038",
   "metadata": {},
   "outputs": [
    {
     "data": {
      "image/png": "[encoded data removed]",
      "text/plain": [
       "<Figure size 720x720 with 6 Axes>"
      ]
     },
     "metadata": {
      "needs_background": "light"
     },
     "output_type": "display_data"
    }
   ],
   "source": [
    "sample_names = [\"Control\", \"12min\", \"30min\", \"60min\"]\n",
    "fig, axs = plt.subplots(\n",
    "    ncols=3,\n",
    "    nrows=2,\n",
    "    figsize=(10, 10),\n",
    "    sharey=\"row\",\n",
    "    gridspec_kw={\"wspace\": 0.1}\n",
    ")\n",
    "\n",
    "comps = [('t0', 't12'), ('t12', 't30'), ('t30', 't60')]\n",
    "\n",
    "for idx, comp in enumerate(comps):\n",
    "    comp_df_dict = loops_comp_[comp]\n",
    "    ax = axs[0, idx]\n",
    "    labels = (sample_names[idx], sample_names[idx + 1])\n",
    "    weights = {\n",
    "        \"Common\": (\n",
    "            comp_df_dict[\"common_loops\"].drop_duplicates(subset=['chrom1', 'start1', 'chrom2', 'start2']).shape[0]\n",
    "        ),\n",
    "        \"Unique\": (\n",
    "            comp_df_dict[\"specific_loops1\"].drop_duplicates(subset=['chrom1', 'start1', 'chrom2', 'start2']).shape[0],\n",
    "            comp_df_dict[\"specific_loops2\"].drop_duplicates(subset=['chrom1', 'start1', 'chrom2', 'start2']).shape[0],\n",
    "        ),\n",
    "    }\n",
    "    \n",
    "    df = pd.DataFrame(weights, index=labels)\n",
    "\n",
    "    df.plot.bar(ax=ax, stacked=True, rot=0, color=[\"#465775\", \"#A63446\"], width=0.8, legend=False)\n",
    "    ax.set_xticklabels(labels=labels, fontsize=14)\n",
    "    ax.tick_params(axis='y', labelsize=14)\n",
    "\n",
    "for idx, comp in enumerate(comps):\n",
    "    comp_df_dict = anchors_comp_[comp]\n",
    "    ax = axs[1, idx]\n",
    "    labels = (sample_names[idx], sample_names[idx + 1])\n",
    "\n",
    "    weights = {\n",
    "        \"Below\": (\n",
    "            comp_df_dict[\"common_anchors\"].drop_duplicates(subset=['chrom', 'start']).shape[0]\n",
    "        ),\n",
    "        \"Above\": (\n",
    "            comp_df_dict[\"specific_anchors1\"].drop_duplicates(subset=['chrom', 'start']).shape[0],\n",
    "            comp_df_dict[\"specific_anchors2\"].drop_duplicates(subset=['chrom', 'start']).shape[0],\n",
    "        ),\n",
    "    }\n",
    "    \n",
    "    df = pd.DataFrame(weights, index=labels)\n",
    "\n",
    "    df.plot.bar(ax=ax, stacked=True, rot=0, color=[\"#465775\", \"#A63446\"], width=0.8, legend=False)\n",
    "    ax.set_xticklabels(labels=labels, fontsize=14)\n",
    "    ax.tick_params(axis='y', labelsize=14)\n",
    "\n",
    "plt.tight_layout()\n",
    "plt.savefig(\"loops_anchor_counts.svg\")"
   ]
  },
  {
   "cell_type": "code",
   "execution_count": 13,
   "id": "967f18e9",
   "metadata": {},
   "outputs": [],
   "source": [
    "# sample_names = [\"Control\", \"12min\", \"30min\", \"60min\"]\n",
    "# fig, axs = plt.subplots(\n",
    "#     ncols=3,\n",
    "#     nrows=2,\n",
    "#     figsize=(10, 10),\n",
    "#     sharey=\"row\",\n",
    "#     gridspec_kw={\"wspace\": 0.1}\n",
    "# )\n",
    "\n",
    "# comps = [('t0', 't12'), ('t12', 't30'), ('t30', 't60')]\n",
    "\n",
    "# for idx, comp in enumerate(comps):\n",
    "#     comp_df_dict = loops_comp_[comp]\n",
    "#     ax = axs[0, idx]\n",
    "#     labels = (sample_names[idx], sample_names[idx + 1])\n",
    "#     weights = {\n",
    "#         \"Common\": (\n",
    "#             comp_df_dict[\"common_loops1\"].drop_duplicates(subset=['chrom1', 'start1', 'chrom2', 'start2']).shape[0],\n",
    "#             comp_df_dict[\"common_loops2\"].drop_duplicates(subset=['chrom1', 'start1', 'chrom2', 'start2']).shape[0],\n",
    "#         ),\n",
    "#         \"Unique\": (\n",
    "#             comp_df_dict[\"specific_loops1\"].drop_duplicates(subset=['chrom1', 'start1', 'chrom2', 'start2']).shape[0],\n",
    "#             comp_df_dict[\"specific_loops2\"].drop_duplicates(subset=['chrom1', 'start1', 'chrom2', 'start2']).shape[0],\n",
    "#         ),\n",
    "#     }\n",
    "    \n",
    "#     df = pd.DataFrame(weights, index=labels)\n",
    "\n",
    "#     df.plot.bar(ax=ax, stacked=True, rot=0, color=[\"#465775\", \"#A63446\"], width=0.8, legend=False)\n",
    "#     ax.set_xticklabels(labels=labels, fontsize=14)\n",
    "#     ax.tick_params(axis='y', labelsize=14)\n",
    "\n",
    "# for idx, comp in enumerate(comps):\n",
    "#     comp_df_dict = anchors_comp_[comp]\n",
    "#     ax = axs[1, idx]\n",
    "#     labels = (\"Control\", sample_names[idx + 1])\n",
    "#     weights = {\n",
    "#         \"Below\": (\n",
    "#             comp_df_dict[\"common_anchors1\"].drop_duplicates(subset=['chrom', 'start']).shape[0],\n",
    "#             comp_df_dict[\"common_anchors2\"].drop_duplicates(subset=['chrom', 'start']).shape[0],\n",
    "#         ),\n",
    "#         \"Above\": (\n",
    "#             comp_df_dict[\"specific_anchors1\"].drop_duplicates(subset=['chrom', 'start']).shape[0],\n",
    "#             comp_df_dict[\"specific_anchors2\"].drop_duplicates(subset=['chrom', 'start']).shape[0],\n",
    "#         ),\n",
    "#     }\n",
    "    \n",
    "#     df = pd.DataFrame(weights, index=labels)\n",
    "\n",
    "#     df.plot.bar(ax=ax, stacked=True, rot=0, color=[\"#465775\", \"#A63446\"], width=0.8, legend=False)\n",
    "#     ax.set_xticklabels(labels=labels, fontsize=14)\n",
    "#     ax.tick_params(axis='y', labelsize=14)\n",
    "\n",
    "# # plt.tight_layout()\n",
    "# # plt.savefig(\"loops_anchor_counts.svg\")"
   ]
  },
  {
   "cell_type": "markdown",
   "metadata": {},
   "source": [
    "## Dots Ops Barplots"
   ]
  },
  {
   "cell_type": "code",
   "execution_count": 14,
   "id": "d19303f9",
   "metadata": {},
   "outputs": [],
   "source": [
    "# min_dist = 50_000\n",
    "\n",
    "# sample_names = [\"Control\", \"12min\", \"30min\", \"60min\"]\n",
    "# fig, axs = plt.subplots(\n",
    "#     ncols=3,\n",
    "#     nrows=2,\n",
    "#     figsize=(10, 10),\n",
    "#     sharey=\"row\",\n",
    "#     gridspec_kw={\"wspace\": 0.1}\n",
    "# )\n",
    "\n",
    "# comps = [('t0', 't12'), ('t12', 't30'), ('t30', 't60')]\n",
    "\n",
    "# loops_df_list_ = []\n",
    "\n",
    "# for idx, comp in enumerate(comps):\n",
    "\n",
    "    \n",
    "#     dots_df_current = [dots_df_[samples.index(c)] for c in comp]\n",
    "#     all_anchors, loops_df_list = prepare_merged_anchor(dots_df_= dots_df_current, min_dist = min_dist)\n",
    "#     loops_df_list = overlap_to_all_anchors(loops_df_list, all_anchors)\n",
    "#     print(comp)\n",
    "#     print(all_anchors.groupby(\"n_intervals\").size())\n",
    "\n",
    "#     loops_df_list_.append(loops_df_list)\n",
    "\n",
    "# # LOOPS\n",
    "# for idx, comp in enumerate(comps):\n",
    "\n",
    "#     loops_df_list = loops_df_list_[idx]\n",
    "#     common_loops = set(loops_df_list[0].iloc[:, 6:8].apply(lambda x: f\"{x[0]}-{x[1]}\", axis=1)).intersection(set(loops_df_list[1].iloc[:, 6:8].apply(lambda x: f\"{x[0]}-{x[1]}\", axis=1)))\n",
    "#     specific_loops1 = set(loops_df_list[0].iloc[:, 6:8].apply(lambda x: f\"{x[0]}-{x[1]}\", axis=1)).difference(set(loops_df_list[1].iloc[:, 6:8].apply(lambda x: f\"{x[0]}-{x[1]}\", axis=1)))\n",
    "#     specific_loops2 = set(loops_df_list[1].iloc[:, 6:8].apply(lambda x: f\"{x[0]}-{x[1]}\", axis=1)).difference(set(loops_df_list[0].iloc[:, 6:8].apply(lambda x: f\"{x[0]}-{x[1]}\", axis=1)))\n",
    "\n",
    "#     labels = (sample_names[idx], sample_names[idx + 1])\n",
    "\n",
    "#     ax = axs[0, idx]\n",
    "\n",
    "#     weights = {\n",
    "#         \"Common\": len(common_loops),\n",
    "#         \"Unique\": (len(specific_loops1), len(specific_loops2)),\n",
    "#     }\n",
    "\n",
    "#     df = pd.DataFrame(weights, index=labels)\n",
    "\n",
    "#     df.plot.bar(ax=ax, stacked=True, rot=0, color=[\"#465775\", \"#A63446\"], width=0.6, legend=False)\n",
    "#     ax.set_xticklabels(labels=labels, fontsize=14)\n",
    "#     ax.set_ylabel(\"Number of loops\", fontsize=14)\n",
    "#     ax.tick_params(axis='y', labelsize=12)\n",
    "\n",
    "\n",
    "# # ANCHORS\n",
    "\n",
    "# for idx, comp in enumerate(comps):\n",
    "#         loops_df_list = loops_df_list_[idx]\n",
    "\n",
    "#         common_anchors_1 = loops_df_list[0].iloc[:, 6].unique().tolist() + loops_df_list[0].iloc[:, 7].unique().tolist()\n",
    "#         common_anchors_2 = loops_df_list[1].iloc[:, 6].unique().tolist() + loops_df_list[1].iloc[:, 7].unique().tolist()\n",
    "\n",
    "#         common_anchors = set(common_anchors_1).intersection(set(common_anchors_2))\n",
    "#         specific_anchors1 = set(common_anchors_1).difference(set(common_anchors_2))\n",
    "#         specific_anchors2 = set(common_anchors_2).difference(set(common_anchors_1))\n",
    "\n",
    "#         labels = (sample_names[idx], sample_names[idx + 1])\n",
    "    \n",
    "#         ax = axs[1, idx]\n",
    "    \n",
    "#         weights = {\n",
    "#             \"Common\": len(common_anchors),\n",
    "#             \"Unique\": (len(specific_anchors1), len(specific_anchors2)),\n",
    "#         }\n",
    "    \n",
    "#         df = pd.DataFrame(weights, index=labels)\n",
    "    \n",
    "#         df.plot.bar(ax=ax, stacked=True, rot=0, color=[\"#465775\", \"#A63446\"], width=0.6, legend=False)\n",
    "#         ax.set_xticklabels(labels=labels, fontsize=14)\n",
    "#         ax.set_ylabel(\"Number of anchors\", fontsize=14)\n",
    "#         ax.tick_params(axis='y', labelsize=12)\n",
    "\n",
    "# # plt.tight_layout()\n",
    "# # plt.savefig(\"loop_anchor_counts.svg\")"
   ]
  },
  {
   "cell_type": "markdown",
   "metadata": {},
   "source": [
    "## Viz dots"
   ]
  },
  {
   "cell_type": "markdown",
   "id": "4ca7d5d2",
   "metadata": {},
   "source": [
    "### Comm1, Comm2, Specific1, Specific2"
   ]
  },
  {
   "cell_type": "code",
   "execution_count": 6,
   "id": "bf9e266a",
   "metadata": {},
   "outputs": [],
   "source": [
    "from dots_common import findUniqueCommonLoops, findUniqueCommonAnchors\n",
    "\n",
    "# t0 vs t12\n",
    "loops = findUniqueCommonLoops(dots_df_[0], dots_df_[1], merge_common=True, accepted_range=50_000)\n",
    "anchors = findUniqueCommonAnchors(dots_df_[0], dots_df_[1], merge_common=True, accepted_range=50_000)"
   ]
  },
  {
   "cell_type": "code",
   "execution_count": 13,
   "id": "d11fa5d6",
   "metadata": {},
   "outputs": [],
   "source": [
    "for k in loops:\n",
    "    df = loops[k].copy()\n",
    "    df[\"end1\"] = df[\"start1\"] + resolution\n",
    "    df[\"end2\"] = df[\"start2\"] + resolution\n",
    "    # reorder columns\n",
    "    df = df[[\"chrom1\", \"start1\", \"end1\", \"chrom2\", \"start2\", \"end2\"]]\n",
    "    df.drop_duplicates(['chrom1', 'start1', 'chrom2', 'start2'], inplace=True)\n",
    "    df.to_csv(f\"t0_t12/t0_vs_t12_{k}.tsv\", sep=\"\\t\", index=False)\n",
    "\n",
    "for k in anchors:\n",
    "    df = anchors[k].copy()\n",
    "    df['end'] = df['start'] + resolution\n",
    "    df = df[['chrom', 'start', 'end']]\n",
    "    df.drop_duplicates(inplace=True)\n",
    "    df.to_csv(f\"t0_t12/t0_vs_t12_{k}.tsv\", sep=\"\\t\", index=False)"
   ]
  },
  {
   "cell_type": "code",
   "execution_count": null,
   "id": "34723fe4",
   "metadata": {},
   "outputs": [],
   "source": [
    "# min_dist = 50_000\n",
    "\n",
    "# dots_df_current = dots_df_[:2]\n",
    "# all_anchors, loops_df_list = prepare_merged_anchor(dots_df_= dots_df_current, min_dist = min_dist)\n",
    "# loops_df_list = overlap_to_all_anchors(loops_df_list, all_anchors)\n",
    "# print(all_anchors.groupby(\"n_intervals\").size())\n",
    "\n",
    "# common_loops1 = set(loops_df_list[0].iloc[:, 6:8].apply(lambda x: f\"{x[0]}-{x[1]}\", axis=1)).intersection(set(loops_df_list[1].iloc[:, 6:8].apply(lambda x: f\"{x[0]}-{x[1]}\", axis=1)))\n",
    "# common_loops2 = set(loops_df_list[1].iloc[:, 6:8].apply(lambda x: f\"{x[0]}-{x[1]}\", axis=1)).intersection(set(loops_df_list[0].iloc[:, 6:8].apply(lambda x: f\"{x[0]}-{x[1]}\", axis=1)))\n",
    "# specific_loops1 = set(loops_df_list[0].iloc[:, 6:8].apply(lambda x: f\"{x[0]}-{x[1]}\", axis=1)).difference(set(loops_df_list[1].iloc[:, 6:8].apply(lambda x: f\"{x[0]}-{x[1]}\", axis=1)))\n",
    "# specific_loops2 = set(loops_df_list[1].iloc[:, 6:8].apply(lambda x: f\"{x[0]}-{x[1]}\", axis=1)).difference(set(loops_df_list[0].iloc[:, 6:8].apply(lambda x: f\"{x[0]}-{x[1]}\", axis=1)))\n",
    "\n",
    "# def get_coords(loops_set, all_anchors):\n",
    "#     df_dict = {\n",
    "#         \"chrom1\": [],\n",
    "#         \"start1\": [],\n",
    "#         \"end1\": [],\n",
    "#         \"chrom2\": [],\n",
    "#         \"start2\": [],\n",
    "#         \"end2\": []\n",
    "#     }\n",
    "#     for loop in loops_set:\n",
    "#         anchor1, anchor2 = loop.split(\"-\")\n",
    "#         anchor1 = all_anchors.loc[int(anchor1)]\n",
    "#         anchor2 = all_anchors.loc[int(anchor2)]\n",
    "#         df_dict[\"chrom1\"].append(anchor1[\"chrom\"])\n",
    "#         df_dict[\"start1\"].append(anchor1[\"start\"])\n",
    "#         df_dict[\"end1\"].append(anchor1[\"end\"])\n",
    "#         df_dict[\"chrom2\"].append(anchor2[\"chrom\"])\n",
    "#         df_dict[\"start2\"].append(anchor2[\"start\"])\n",
    "#         df_dict[\"end2\"].append(anchor2[\"end\"])\n",
    "\n",
    "#     return pd.DataFrame(df_dict)\n",
    "\n",
    "# common_loops1_coords = get_coords(common_loops1, all_anchors)\n",
    "# common_loops2_coords = get_coords(common_loops2, all_anchors)\n",
    "# specific_loops1_coords = get_coords(specific_loops1, all_anchors)\n",
    "# specific_loops2_coords = get_coords(specific_loops2, all_anchors)\n",
    "\n",
    "# common_loops1_coords[\"length\"] = common_loops1_coords[\"start2\"] - common_loops1_coords[\"end1\"]\n",
    "# common_loops2_coords[\"length\"] = common_loops2_coords[\"start2\"] - common_loops2_coords[\"end1\"]\n",
    "# specific_loops1_coords[\"length\"] = specific_loops1_coords[\"start2\"] - specific_loops1_coords[\"end1\"]\n",
    "# specific_loops2_coords[\"length\"] = specific_loops2_coords[\"start2\"] - specific_loops2_coords[\"end1\"]\n",
    "\n",
    "# common_loops1_coords[\"type\"] = \"common_loops1\"\n",
    "# common_loops2_coords[\"type\"] = \"common_loops2\"\n",
    "# specific_loops1_coords[\"type\"] = \"specific_loops1\"\n",
    "# specific_loops2_coords[\"type\"] = \"specific_loops2\"\n",
    "\n",
    "\n",
    "# df = pd.concat([common_loops1_coords, common_loops2_coords, specific_loops1_coords, specific_loops2_coords])\n",
    "\n",
    "# df['start1'] += (df['end1'] - df['start1']) // 20_000 * 10_000\n",
    "# df['end1'] = df['start1'] + 10_000\n",
    "\n",
    "# df['start2'] += (df['end2'] - df['start2']) // 20_000 * 10_000\n",
    "# df['end2'] = df['start2'] + 10_000"
   ]
  },
  {
   "cell_type": "code",
   "execution_count": 7,
   "id": "084e0047",
   "metadata": {},
   "outputs": [],
   "source": [
    "dfs = []\n",
    "loop_df = loops.copy()\n",
    "for k,v in loop_df.items():\n",
    "\tdf = v\n",
    "\tdf[\"type\"] = [k] * df.shape[0]\n",
    "\tdf['end1'] = df['start1'] + resolution\n",
    "\tdf['end2'] = df['start2'] + resolution\n",
    "\tdf['length'] = df['start2'] - df['end1']\n",
    "\tdfs.append(df)\n",
    "\n",
    "df = pd.concat(dfs)"
   ]
  },
  {
   "cell_type": "code",
   "execution_count": 12,
   "id": "7d616c0d",
   "metadata": {},
   "outputs": [],
   "source": [
    "apa_flank = 100_000"
   ]
  },
  {
   "cell_type": "code",
   "execution_count": 15,
   "id": "2b299f6e",
   "metadata": {},
   "outputs": [
    {
     "name": "stderr",
     "output_type": "stream",
     "text": [
      "INFO:coolpuppy:('chr1_p', 'chr1_p'): 236\n",
      "INFO:coolpuppy:('chr4_p', 'chr4_p'): 96\n",
      "INFO:coolpuppy:('chr2_p', 'chr2_p'): 207\n",
      "INFO:coolpuppy:('chr3_p', 'chr3_p'): 136\n",
      "INFO:coolpuppy:('chr5_p', 'chr5_p'): 153\n",
      "INFO:coolpuppy:('chr6_p', 'chr6_p'): 258\n",
      "INFO:coolpuppy:('chr4_q', 'chr4_q'): 148\n",
      "INFO:coolpuppy:('chr8_p', 'chr8_p'): 82\n",
      "INFO:coolpuppy:('chr7_p', 'chr7_p'): 216\n",
      "INFO:coolpuppy:('chr3_q', 'chr3_q'): 249\n",
      "INFO:coolpuppy:('chr1_q', 'chr1_q'): 358\n",
      "INFO:coolpuppy:('chr2_q', 'chr2_q'): 221\n",
      "INFO:coolpuppy:('chr9_p', 'chr9_p'): 93\n",
      "INFO:coolpuppy:('chr6_q', 'chr6_q'): 234\n",
      "INFO:coolpuppy:('chr8_q', 'chr8_q'): 178\n",
      "INFO:coolpuppy:('chr10_p', 'chr10_p'): 106\n",
      "INFO:coolpuppy:('chr11_p', 'chr11_p'): 114\n",
      "INFO:coolpuppy:('chr7_q', 'chr7_q'): 170\n",
      "INFO:coolpuppy:('chr12_p', 'chr12_p'): 94\n",
      "INFO:coolpuppy:('chr9_q', 'chr9_q'): 203\n",
      "INFO:coolpuppy:('chr5_q', 'chr5_q'): 403\n",
      "INFO:coolpuppy:('chr10_q', 'chr10_q'): 133\n",
      "INFO:coolpuppy:('chr13_q', 'chr13_q'): 151\n",
      "INFO:coolpuppy:('chr11_q', 'chr11_q'): 168\n",
      "INFO:coolpuppy:('chr16_p', 'chr16_p'): 49\n",
      "INFO:coolpuppy:('chr14_q', 'chr14_q'): 175\n",
      "INFO:coolpuppy:('chr17_p', 'chr17_p'): 44\n",
      "INFO:coolpuppy:('chr18_p', 'chr18_p'): 35\n",
      "INFO:coolpuppy:('chr15_q', 'chr15_q'): 185\n",
      "INFO:coolpuppy:('chr12_q', 'chr12_q'): 254\n",
      "INFO:coolpuppy:('chr16_q', 'chr16_q'): 112\n",
      "INFO:coolpuppy:('chr19_p', 'chr19_p'): 56\n",
      "INFO:coolpuppy:('chr17_q', 'chr17_q'): 128\n",
      "INFO:coolpuppy:('chr20_p', 'chr20_p'): 32\n",
      "INFO:coolpuppy:('chr18_q', 'chr18_q'): 69\n",
      "INFO:coolpuppy:('chr19_q', 'chr19_q'): 41\n",
      "INFO:coolpuppy:('chr21_q', 'chr21_q'): 44\n",
      "INFO:coolpuppy:('chr20_q', 'chr20_q'): 148\n",
      "INFO:coolpuppy:('chr22_q', 'chr22_q'): 60\n",
      "INFO:coolpuppy:('chrX_p', 'chrX_p'): 79\n",
      "INFO:coolpuppy:('chrX_q', 'chrX_q'): 37\n",
      "INFO:coolpuppy:Total number of piled up windows: 5955\n",
      "INFO:coolpuppy:('chr1_p', 'chr1_p'): 236\n",
      "INFO:coolpuppy:('chr2_p', 'chr2_p'): 207\n",
      "INFO:coolpuppy:('chr4_p', 'chr4_p'): 96\n",
      "INFO:coolpuppy:('chr3_p', 'chr3_p'): 136\n",
      "INFO:coolpuppy:('chr5_p', 'chr5_p'): 153\n",
      "INFO:coolpuppy:('chr6_p', 'chr6_p'): 258\n",
      "INFO:coolpuppy:('chr1_q', 'chr1_q'): 358\n",
      "INFO:coolpuppy:('chr8_p', 'chr8_p'): 82\n",
      "INFO:coolpuppy:('chr7_p', 'chr7_p'): 216\n",
      "INFO:coolpuppy:('chr4_q', 'chr4_q'): 148\n",
      "INFO:coolpuppy:('chr2_q', 'chr2_q'): 221\n",
      "INFO:coolpuppy:('chr9_p', 'chr9_p'): 93\n",
      "INFO:coolpuppy:('chr3_q', 'chr3_q'): 249\n",
      "INFO:coolpuppy:('chr6_q', 'chr6_q'): 234\n",
      "INFO:coolpuppy:('chr5_q', 'chr5_q'): 403\n",
      "INFO:coolpuppy:('chr7_q', 'chr7_q'): 170\n",
      "INFO:coolpuppy:('chr8_q', 'chr8_q'): 178\n",
      "INFO:coolpuppy:('chr9_q', 'chr9_q'): 203\n",
      "INFO:coolpuppy:('chr10_p', 'chr10_p'): 106\n",
      "INFO:coolpuppy:('chr11_p', 'chr11_p'): 114\n",
      "INFO:coolpuppy:('chr12_p', 'chr12_p'): 94\n",
      "INFO:coolpuppy:('chr10_q', 'chr10_q'): 133\n",
      "INFO:coolpuppy:('chr11_q', 'chr11_q'): 168\n",
      "INFO:coolpuppy:('chr13_q', 'chr13_q'): 151\n",
      "INFO:coolpuppy:('chr16_p', 'chr16_p'): 49\n",
      "INFO:coolpuppy:('chr17_p', 'chr17_p'): 44\n",
      "INFO:coolpuppy:('chr18_p', 'chr18_p'): 35\n",
      "INFO:coolpuppy:('chr14_q', 'chr14_q'): 175\n",
      "INFO:coolpuppy:('chr15_q', 'chr15_q'): 185\n",
      "INFO:coolpuppy:('chr12_q', 'chr12_q'): 254\n",
      "INFO:coolpuppy:('chr16_q', 'chr16_q'): 112\n",
      "INFO:coolpuppy:('chr19_p', 'chr19_p'): 56\n",
      "INFO:coolpuppy:('chr17_q', 'chr17_q'): 128\n",
      "INFO:coolpuppy:('chr18_q', 'chr18_q'): 69\n",
      "INFO:coolpuppy:('chr20_p', 'chr20_p'): 32\n",
      "INFO:coolpuppy:('chr19_q', 'chr19_q'): 41\n",
      "INFO:coolpuppy:('chr21_q', 'chr21_q'): 44\n",
      "INFO:coolpuppy:('chr22_q', 'chr22_q'): 60\n",
      "INFO:coolpuppy:('chr20_q', 'chr20_q'): 148\n",
      "INFO:coolpuppy:('chrX_p', 'chrX_p'): 79\n",
      "INFO:coolpuppy:('chrX_q', 'chrX_q'): 37\n",
      "INFO:coolpuppy:Total number of piled up windows: 5955\n"
     ]
    }
   ],
   "source": [
    "# min_dist = 30*(10_000/(2**0.5)) ### -n parameter in juicer APA\n",
    "# df = df.loc[df['start2'] - df['end1'] > min_dist] \n",
    "\n",
    "pups_ = [\n",
    "\tcoolpup.pileup(clr, df, features_format='bedpe', view_df=hg38_arms, expected_df=expected,\n",
    "\t\t\t\t\t\t\tgroupby=['type'], flank=apa_flank, nproc=nproc, local=False)\n",
    "\t\t\t\t\t\t\tfor clr, expected in zip(clrs_[:2], expected_)\n",
    "]"
   ]
  },
  {
   "cell_type": "code",
   "execution_count": 16,
   "id": "2a25f2c3",
   "metadata": {},
   "outputs": [],
   "source": [
    "def min_max_comp(data__):\n",
    "\tvmin = []\n",
    "\tvmax = []\n",
    "\tfor data_ in data__:\n",
    "\t\tdata_ = data_.data\n",
    "\t\tfor data in data_:\n",
    "\t\t\tvmin.append(np.nanmin(data))\n",
    "\t\t\tvmax.append(np.nanmax(data))\n",
    "\tvmax = np.nanmax(vmax)\n",
    "\tvmin = np.nanmin(vmin)\t\t\n",
    "\tif vmax >= 1:\n",
    "\t\tvmin = 2 ** -np.log2(vmax)\n",
    "\treturn vmin, vmax\t\t"
   ]
  },
  {
   "cell_type": "code",
   "execution_count": 16,
   "metadata": {},
   "outputs": [],
   "source": [
    "def get_corner_scores(data, n_bins):\n",
    "    center_idx = data.shape[0] // 2\n",
    "    center_score = data[center_idx, center_idx]\n",
    "    tl = np.nanmean(data[:n_bins, :n_bins]) \n",
    "    br = np.nanmean(data[-n_bins:, -n_bins:])\n",
    "    tr = np.nanmean(data[:n_bins, -n_bins:])\n",
    "    bl = np.nanmean(data[-n_bins:, :n_bins])\n",
    "\n",
    "    return [\n",
    "        center_score / tl, \n",
    "        center_score / tr, \n",
    "        center_score / bl, \n",
    "        center_score / br]\n",
    "\n",
    "def P2M(data):\n",
    "    total = np.nansum(data)\n",
    "    center_idx = data.shape[0] // 2\n",
    "    center_score = data[center_idx, center_idx]\n",
    "    return center_score / ((total - center_score) / (data.size - 1))\n",
    "\n",
    "def P2LL(data, n_bins):\n",
    "    center_idx = data.shape[0] // 2\n",
    "    center_score = data[center_idx, center_idx]\n",
    "    bl = np.nanmean(data[-n_bins:, :n_bins])\n",
    "    return center_score / bl\n",
    "\n",
    "def central_score(data, n):\n",
    "    c = data.shape[0] // 2\n",
    "    return np.nanmean(data[c - n // 2 : c + n // 2 + 1, c - n // 2 : c + n // 2 + 1])\n"
   ]
  },
  {
   "cell_type": "code",
   "execution_count": 14,
   "id": "688c914a",
   "metadata": {},
   "outputs": [],
   "source": [
    "from coolpuppy.lib import numutils, puputils\n",
    "corner_size = 6\n",
    "central_size = 1"
   ]
  },
  {
   "cell_type": "code",
   "execution_count": 26,
   "id": "2c6af1fd",
   "metadata": {},
   "outputs": [],
   "source": [
    "\n",
    "\n",
    "for pup in pups_:\n",
    "    pup['central_score'] = pup.apply(\n",
    "                    lambda x: central_score(x['data'], central_size), axis=1\n",
    "                )\n",
    "\n",
    "for pup in pups_:\n",
    "    pup['corner_scores'] = pup.apply(\n",
    "                    lambda x: get_corner_scores(x['data'], corner_size), axis=1\n",
    "                )\n",
    "\n",
    "for pup in pups_:    \n",
    "    pup['P2M'] = pup.apply(\n",
    "                    lambda x: P2M(x['data']), axis=1\n",
    "                )\n",
    "\n",
    "for pup in pups_:    \n",
    "    pup['P2LL'] = pup.apply(\n",
    "                    lambda x: P2LL(x['data'], corner_size), axis=1\n",
    "                )"
   ]
  },
  {
   "cell_type": "code",
   "execution_count": 27,
   "id": "1c418e0f",
   "metadata": {},
   "outputs": [],
   "source": [
    "pups_reordered = []\n",
    "#re_order = [\"common_loops1\", \"common_loops2\", \"specific_loops1\", \"specific_loops2\", \"all\"]\n",
    "re_order = [\"common_loops\", \"specific_loops1\", \"specific_loops2\", \"all\"]\n",
    "\n",
    "for pup in pups_:\n",
    "    pup_df = pup.copy()\n",
    "\n",
    "    pup_df.set_index(\"type\", inplace=True)\n",
    "    pup_df = pup_df.reindex(re_order)\n",
    "    pup_df[\"type\"] = pup_df.index\n",
    "    pup_df.reset_index(drop=True, inplace=True)\n",
    "    pups_reordered.append(pup_df)"
   ]
  },
  {
   "cell_type": "code",
   "execution_count": 43,
   "id": "a6b9644f",
   "metadata": {},
   "outputs": [
    {
     "name": "stdout",
     "output_type": "stream",
     "text": [
      "0    /home/carlos/Desktop/manuscripts/notebooks/mat...\n",
      "1    /home/carlos/Desktop/manuscripts/notebooks/mat...\n",
      "2    /home/carlos/Desktop/manuscripts/notebooks/mat...\n",
      "3    /home/carlos/Desktop/manuscripts/notebooks/mat...\n",
      "Name: clr, dtype: object\n",
      "0    /home/carlos/Desktop/manuscripts/notebooks/mat...\n",
      "1    /home/carlos/Desktop/manuscripts/notebooks/mat...\n",
      "2    /home/carlos/Desktop/manuscripts/notebooks/mat...\n",
      "3    /home/carlos/Desktop/manuscripts/notebooks/mat...\n",
      "Name: clr, dtype: object\n"
     ]
    },
    {
     "data": {
      "image/png": "[encoded data removed]",
      "text/plain": [
       "<Figure size 1728x864 with 8 Axes>"
      ]
     },
     "metadata": {},
     "output_type": "display_data"
    }
   ],
   "source": [
    "scores_type = \"central_score\" # \"corner_scores\" or \"central_score\" or \"P2M\" or \"P2LL\"\n",
    "\n",
    "vmin, vmax = min_max_comp(pups_reordered)\n",
    "from matplotlib.colors import LogNorm, Normalize\n",
    "from matplotlib import patches\n",
    "norm = LogNorm(vmin=vmin, vmax=vmax)\n",
    "height =6\n",
    "fig, axs = plt.subplots(\n",
    "      ncols=4,\n",
    "      nrows=len(pups_reordered),\n",
    "\tfigsize=(24, height*2),\n",
    "      sharex=True,\n",
    "      sharey=True,\n",
    ")\n",
    "\n",
    "\n",
    "from matplotlib.colors import LinearSegmentedColormap\n",
    "cmp = LinearSegmentedColormap.from_list(\"custom_cmp\", [\"white\", \"white\", \"#C42021\"], N=256)\n",
    "\n",
    "font_scale = 2\n",
    "sample_names = [\"Control\", \"12min\"]\n",
    "\n",
    "# types_dict = {\n",
    "#       \"specific_loops1\": \"Control Unique\", \n",
    "#       \"specific_loops2\": \"12Min Unique\", \n",
    "#       \"common_loops1\": \"Control Common\",\n",
    "#       \"common_loops2\": \"12Min Common\",  \n",
    "#       \"all\": \"All Loops\"}\n",
    "\n",
    "types_dict = {\n",
    "      \"specific_loops1\": \"Control Specific\", \n",
    "      \"specific_loops2\": \"12Min Specific\", \n",
    "      \"common_loops\": \"Common\",  \n",
    "      \"all\": \"All Loops\"}\n",
    "\n",
    "for i, pup in enumerate(pups_reordered):\n",
    "      print(pup.clr)\n",
    "      types =  pup.type\n",
    "\n",
    "      for idx, ax in enumerate(axs[i, :]):\n",
    "            s = sns.heatmap(\n",
    "                  pup.iloc[idx].data,\n",
    "                  cmap=cmp,\n",
    "                  norm=norm,\n",
    "                  ax=ax,\n",
    "                  cbar=False,\n",
    "            )\n",
    "            \n",
    "            current_type = types[idx]\n",
    "\n",
    "            if i == 0:\n",
    "                  s.set_title(types_dict[current_type], fontsize=2.5 * (4.94 + height))\n",
    "            s.set_xticks([])\n",
    "            s.set_xticklabels([])\n",
    "            s.set_yticks([])\n",
    "            s.set_yticklabels([])\n",
    "            \n",
    "            mtx_size = pup.iloc[idx].data.shape[0]\n",
    "\n",
    "            if idx == 0:\n",
    "                  s.set_ylabel(sample_names[i], fontsize=2.5 * (4.94 + height))\n",
    "\n",
    "            if scores_type == \"central_score\":\n",
    "                  score = pup.central_score[idx]\n",
    "                  ax.text(\n",
    "                        s=f\"{score:.3g}\",\n",
    "                        y=0.95,\n",
    "                        x=0.05,\n",
    "                        ha=\"left\",\n",
    "                        va=\"top\",\n",
    "                        size=font_scale * (4.94 + height),\n",
    "                        transform=ax.transAxes,\n",
    "                  )\n",
    "            elif scores_type == \"P2M\":\n",
    "                  p2m = pup.P2M[idx]\n",
    "                  ax.text(\n",
    "                        s=f\"{p2m:.3g}\",\n",
    "                        y=0.95,\n",
    "                        x=0.05,\n",
    "                        ha=\"left\",\n",
    "                        va=\"top\",\n",
    "                        size=font_scale * (4.94 + height),\n",
    "                        transform=ax.transAxes,\n",
    "                  )\n",
    "            elif scores_type == \"corner_scores\":\n",
    "                  corner_scores = pup.corner_scores[idx]\n",
    "                  # top left\n",
    "                  ax.text(\n",
    "                        s=f\"{corner_scores[0]:.3g}\",\n",
    "                        y=0.95,\n",
    "                        x=0.05,\n",
    "                        ha=\"left\",\n",
    "                        va=\"top\",\n",
    "                        size=font_scale * (4.94 + height),\n",
    "                        transform=ax.transAxes,\n",
    "                  )\n",
    "                  \n",
    "                  # add patch\n",
    "                  rect = patches.Rectangle((0, 0), corner_size, corner_size, linewidth=2, edgecolor='#465775', facecolor='none')\n",
    "                  ax.add_patch(rect)\n",
    "\n",
    "                  # top right\n",
    "                  ax.text(\n",
    "                        s=f\"{corner_scores[1]:.3g}\",\n",
    "                        y=0.95,\n",
    "                        x=0.95,\n",
    "                        ha=\"right\",\n",
    "                        va=\"top\",\n",
    "                        size=font_scale * (4.94 + height),\n",
    "                        transform=ax.transAxes,\n",
    "                  )\n",
    "\n",
    "                  # add patch\n",
    "                  rect = patches.Rectangle((mtx_size - corner_size, 0), corner_size, corner_size, linewidth=2, edgecolor='#465775', facecolor='none')\n",
    "                  ax.add_patch(rect)\n",
    "\n",
    "\n",
    "                  # bottom left\n",
    "                  ax.text(\n",
    "                        s=f\"{corner_scores[2]:.3g}\",\n",
    "                        y=0.05,\n",
    "                        x=0.05,\n",
    "                        ha=\"left\",\n",
    "                        va=\"bottom\",\n",
    "                        size=font_scale * (4.94 + height),\n",
    "                        transform=ax.transAxes,\n",
    "                  )\n",
    "                  \n",
    "                  # add patch\n",
    "                  rect = patches.Rectangle((0, mtx_size - corner_size), corner_size, corner_size, linewidth=2, edgecolor='#465775', facecolor='none')\n",
    "                  ax.add_patch(rect)\n",
    "\n",
    "                  # bottom right\n",
    "                  ax.text(\n",
    "                        s=f\"{corner_scores[3]:.3g}\",\n",
    "                        y=0.05,\n",
    "                        x=0.95,\n",
    "                        ha=\"right\",\n",
    "                        va=\"bottom\",\n",
    "                        size=font_scale * (4.94 + height),\n",
    "                        transform=ax.transAxes,\n",
    "                  )\n",
    "\n",
    "                  # add patch\n",
    "                  rect = patches.Rectangle((mtx_size - corner_size, mtx_size - corner_size), corner_size, corner_size, linewidth=2, edgecolor='#465775', facecolor='none')\n",
    "                  ax.add_patch(rect)\n",
    "\n",
    "\n",
    "            elif scores_type == \"P2LL\":\n",
    "                  p2ll = pup.P2LL[idx]\n",
    "                  ax.text(\n",
    "                        s=f\"{p2ll:.3g}\",\n",
    "                        y=0.15,\n",
    "                        x=0.05,\n",
    "                        ha=\"left\",\n",
    "                        va=\"top\",\n",
    "                        size=font_scale * (4.94 + height),\n",
    "                        transform=ax.transAxes,\n",
    "                  )\n",
    "\n",
    "fig.set_tight_layout(True)\n",
    "\n",
    "#fig.suptitle(\"Control vs 12min\", fontsize=font_scale * (4.94 + height))\n",
    "\n",
    "plt.savefig(f\"t0_t12_loop_str_{scores_type}.svg\")"
   ]
  },
  {
   "cell_type": "markdown",
   "metadata": {},
   "source": [
    "## Dot Score ~ Repair"
   ]
  },
  {
   "cell_type": "code",
   "execution_count": 8,
   "id": "391183ca",
   "metadata": {},
   "outputs": [
    {
     "name": "stdout",
     "output_type": "stream",
     "text": [
      "xr-64-over-sim 1.1196280573820672\n",
      "xr-cpd-over-sim 1.1868305407819189\n",
      "ds-64-over-sim 1.23405186005681\n",
      "ds-cpd-over-sim 1.2698717973554339\n",
      "rep-eff-64 1.482119054797605\n",
      "rep-eff-cpd 1.567885930820114\n"
     ]
    }
   ],
   "source": [
    "chrom_sizes = bioframe.fetch_chromsizes(\"hg38\")[:23]\n",
    "def get_mean_bw(bw, chrom_sizes):\n",
    "    for chrom in chrom_sizes.index:\n",
    "        start, end = 0, chrom_sizes.loc[chrom] // 10000 * 10000\n",
    "        yield np.nanmean(bbi.fetch(bw, chrom, start, end, bins=chrom_sizes.loc[chrom] // 1000))\n",
    "\n",
    "BWS = {\n",
    "    'xr-64-over-sim': '/home/carlos/Desktop/manuscripts/notebooks/bws/XR_64_real_over_sim_res1000.bw',\n",
    "    'xr-cpd-over-sim': '/home/carlos/Desktop/manuscripts/notebooks/bws/XR_CPD_real_over_sim_res1000.bw',\n",
    "    'ds-64-over-sim': '/home/carlos/Desktop/manuscripts/notebooks/bws/DS_64_real_over_sim_res1000.bw',\n",
    "    'ds-cpd-over-sim': '/home/carlos/Desktop/manuscripts/notebooks/bws/DS_CPD_real_over_sim_res1000.bw',\n",
    "    'rep-eff-64': '/home/carlos/Desktop/manuscripts/notebooks/bws/XR_64_rep_eff_res1000.bw',\n",
    "    'rep-eff-cpd': '/home/carlos/Desktop/manuscripts/notebooks/bws/XR_CPD_rep_eff_res1000.bw',\n",
    "    #'ctcf': '/cta/users/vkaya/hi-c/work/hela/notebooks/bw/ctcf.foi.bigWig',\n",
    "    }\n",
    "\n",
    "MEANS_BW = {}\n",
    "for k in BWS:\n",
    "    mean_val = np.mean(list(get_mean_bw(BWS[k], chrom_sizes)))\n",
    "    print(k, mean_val)\n",
    "    MEANS_BW[k] = mean_val"
   ]
  },
  {
   "cell_type": "code",
   "execution_count": 9,
   "metadata": {},
   "outputs": [],
   "source": [
    "def _bw_data(\n",
    "    curr_DF, \n",
    "    flank, \n",
    "    n_bins_start, \n",
    "    n_bins_end, \n",
    "    n_bins_main, \n",
    "    mean_norm=True):\n",
    "\n",
    "    start_data = {k: bbi.stackup(v,\n",
    "                            curr_DF.chrom,\n",
    "                            curr_DF.start - flank,\n",
    "                            curr_DF.start,\n",
    "                            bins=n_bins_start) \n",
    "                            for k, v in BWS.items()\n",
    "                            }\n",
    "    main_data = {k: bbi.stackup(v,\n",
    "                            curr_DF.chrom,\n",
    "                            curr_DF.start,\n",
    "                            curr_DF.end,\n",
    "                            bins=n_bins_main) \n",
    "                            for k, v in BWS.items()\n",
    "                            }\n",
    "    end_data = {k: bbi.stackup(v,\n",
    "                            curr_DF.chrom,\n",
    "                            curr_DF.end,\n",
    "                            curr_DF.end + flank,\n",
    "                            bins=n_bins_end)\n",
    "                            for k, v in BWS.items()\n",
    "                            }\n",
    "\n",
    "    if mean_norm:\n",
    "        for k in start_data:\n",
    "            start_data[k] = start_data[k] / MEANS_BW[k]\n",
    "        for k in main_data:\n",
    "            main_data[k] = main_data[k] / MEANS_BW[k]\n",
    "        for k in end_data:\n",
    "            end_data[k] = end_data[k] / MEANS_BW[k]\n",
    "    return start_data, main_data, end_data"
   ]
  },
  {
   "cell_type": "code",
   "execution_count": 10,
   "metadata": {},
   "outputs": [],
   "source": [
    "def tr_to_rest(data, n_bins):\n",
    "    mid_point = data.shape[0] // 2\n",
    "    tr = np.nanmean(data[:n_bins, -n_bins:])\n",
    "    bl = np.nanmean(data[-n_bins:, :n_bins])\n",
    "    br = np.nanmean(data[-n_bins:, -n_bins:])\n",
    "    tl = np.nanmean(data[:n_bins, :n_bins])\n",
    "    return tr / np.nanmean([bl, br, tl]) * P2M(data)"
   ]
  },
  {
   "cell_type": "code",
   "execution_count": 18,
   "metadata": {},
   "outputs": [
    {
     "name": "stdout",
     "output_type": "stream",
     "text": [
      "common_loops 303642.75668073137\n",
      "common_loops 230000.0\n"
     ]
    },
    {
     "name": "stderr",
     "output_type": "stream",
     "text": [
      "/tmp/ipykernel_19368/2299760687.py:33: RuntimeWarning: divide by zero encountered in divide\n",
      "  rank_anchor_to_rank_loop_body = center_scores_QT / bl_scores_QT\n",
      "/tmp/ipykernel_19368/3396646923.py:25: RuntimeWarning: divide by zero encountered in scalar divide\n",
      "  return center_score / bl\n"
     ]
    },
    {
     "name": "stdout",
     "output_type": "stream",
     "text": [
      "specific_loops1 325776.5596450013\n",
      "specific_loops1 230000.0\n"
     ]
    },
    {
     "name": "stderr",
     "output_type": "stream",
     "text": [
      "/tmp/ipykernel_19368/2299760687.py:33: RuntimeWarning: divide by zero encountered in divide\n",
      "  rank_anchor_to_rank_loop_body = center_scores_QT / bl_scores_QT\n",
      "/tmp/ipykernel_19368/3396646923.py:25: RuntimeWarning: divide by zero encountered in scalar divide\n",
      "  return center_score / bl\n"
     ]
    },
    {
     "name": "stdout",
     "output_type": "stream",
     "text": [
      "specific_loops2 319561.4328757951\n",
      "specific_loops2 240000.0\n"
     ]
    },
    {
     "name": "stderr",
     "output_type": "stream",
     "text": [
      "/tmp/ipykernel_19368/2299760687.py:32: RuntimeWarning: Mean of empty slice\n",
      "  bl_scores_QT = QuantileTransformer(n_quantiles=1000, output_distribution='uniform', random_state=42).fit_transform(np.nanmean(stack[-corner_size:, :corner_size, :], axis=(0,1)).reshape(-1, 1)).reshape(-1)\n",
      "/tmp/ipykernel_19368/2299760687.py:33: RuntimeWarning: divide by zero encountered in divide\n",
      "  rank_anchor_to_rank_loop_body = center_scores_QT / bl_scores_QT\n"
     ]
    },
    {
     "name": "stdout",
     "output_type": "stream",
     "text": [
      "{'common_loops': 0, 'specific_loops1': 0, 'specific_loops2': 1}\n"
     ]
    },
    {
     "name": "stderr",
     "output_type": "stream",
     "text": [
      "/tmp/ipykernel_19368/3396646923.py:24: RuntimeWarning: Mean of empty slice\n",
      "  bl = np.nanmean(data[-n_bins:, :n_bins])\n",
      "/tmp/ipykernel_19368/4026915237.py:3: RuntimeWarning: Mean of empty slice\n",
      "  tr = np.nanmean(data[:n_bins, -n_bins:])\n",
      "/tmp/ipykernel_19368/4026915237.py:4: RuntimeWarning: Mean of empty slice\n",
      "  bl = np.nanmean(data[-n_bins:, :n_bins])\n",
      "/tmp/ipykernel_19368/4026915237.py:5: RuntimeWarning: Mean of empty slice\n",
      "  br = np.nanmean(data[-n_bins:, -n_bins:])\n",
      "/tmp/ipykernel_19368/4026915237.py:6: RuntimeWarning: Mean of empty slice\n",
      "  tl = np.nanmean(data[:n_bins, :n_bins])\n",
      "/tmp/ipykernel_19368/4026915237.py:7: RuntimeWarning: Mean of empty slice\n",
      "  return tr / np.nanmean([bl, br, tl]) * P2M(data)\n"
     ]
    }
   ],
   "source": [
    "from sklearn.preprocessing import QuantileTransformer\n",
    "\n",
    "length_filter = None #(min_dist, 10_000_000) # None for no filter, Only keep loops in range (min, max)\n",
    "\n",
    "loops_map_idx = { # 0 for control idx, 1 for 12min idx\n",
    "    'common_loops': 0,\n",
    "    'specific_loops1': 0, \n",
    "    'specific_loops2': 1}\n",
    "\n",
    "\n",
    "bw_per_key = []\n",
    "loop_dfs = []\n",
    "\n",
    "for i, loop_type in enumerate(loops_map_idx.keys()):\n",
    "    loop_df = loops[loop_type].copy().reset_index(drop=True)\n",
    "    loop_df['loop_len'] = loop_df['start2'] - loop_df['end1']\n",
    "    print(loop_type, np.mean(loop_df['loop_len']))\n",
    "    print(loop_type, np.median(loop_df['loop_len']))\n",
    "\n",
    "    if length_filter is not None:\n",
    "        loop_df = loop_df[(loop_df['loop_len'] > length_filter[0]) & (loop_df['loop_len'] < length_filter[1])]\n",
    "\n",
    "    map_idx = loops_map_idx[loop_type]\n",
    "    loop_df['end1'] = loop_df['start1'] + resolution\n",
    "    loop_df['end2'] = loop_df['start2'] + resolution\n",
    "\n",
    "    \n",
    "    stack = cooltools.pileup(clrs_[map_idx], loop_df, view_df=hg38_arms, expected_df=expected_[map_idx], flank=apa_flank, nproc=nproc)\n",
    "    center_idx = stack.shape[0] // 2\n",
    "    center_scores = stack[center_idx, center_idx, :]\n",
    "    center_scores_QT = QuantileTransformer(n_quantiles=1000, output_distribution='uniform', random_state=42).fit_transform(center_scores.reshape(-1, 1)).reshape(-1)\n",
    "    bl_scores_QT = QuantileTransformer(n_quantiles=1000, output_distribution='uniform', random_state=42).fit_transform(np.nanmean(stack[-corner_size:, :corner_size, :], axis=(0,1)).reshape(-1, 1)).reshape(-1)\n",
    "    rank_anchor_to_rank_loop_body = center_scores_QT / bl_scores_QT\n",
    "\n",
    "    # loop strength calculation\n",
    "    p2m_scores = []\n",
    "    bl_scores = []\n",
    "    p2ll_scores = []\n",
    "    tr_to_rest_scores = []\n",
    "    center_scores_QT_p2ll = []\n",
    "    center_scores_QT_tr = []\n",
    "    center_scores_QT_p2m = []\n",
    "    anchor_body = []\n",
    "    for stack_idx in range(stack.shape[2]):\n",
    "        data = stack[:,:,stack_idx]\n",
    "        p2m_scores.append(P2M(data))\n",
    "        p2ll_scores.append(P2LL(data, corner_size))\n",
    "        tr_to_rest_scores.append(tr_to_rest(data, corner_size))\n",
    "        center_scores_QT_p2ll.append(center_scores_QT[stack_idx] * P2LL(data, corner_size))\n",
    "        center_scores_QT_tr.append(center_scores_QT[stack_idx] * tr_to_rest(data, corner_size))\n",
    "        center_scores_QT_p2m.append(center_scores_QT[stack_idx] * P2M(data))\n",
    "        anchor_body.append(rank_anchor_to_rank_loop_body[stack_idx] * P2M(data))\n",
    "\n",
    "\n",
    "    loop_df['p2m_scores_raw'] = p2m_scores\n",
    "    loop_df['p2ll_scores_raw'] = p2ll_scores\n",
    "    loop_df['tr_to_rest_scores_raw'] = tr_to_rest_scores\n",
    "    loop_df['center_QT_p2ll_scores_raw'] = center_scores_QT_p2ll\n",
    "    loop_df['center_QT_tr_scores_raw'] = center_scores_QT_tr\n",
    "    loop_df['center_QT_p2m_scores_raw'] = center_scores_QT_p2m\n",
    "    loop_df['anchor_body_scores_raw'] = anchor_body\n",
    "\n",
    "    # convert inf to nan\n",
    "    loop_df.replace([np.inf, -np.inf], np.nan, inplace=True)\n",
    "    loop_df.dropna(inplace=True)\n",
    "\n",
    "    loop_df['p2m_scores'] = pd.qcut(loop_df['p2m_scores_raw'], q=4, labels=['Q1', 'Q2', 'Q3', 'Q4'])\n",
    "    loop_df['p2ll_scores'] = pd.qcut(loop_df['p2ll_scores_raw'], q=4, labels=['Q1', 'Q2', 'Q3', 'Q4'])\n",
    "    loop_df['tr_to_rest_scores'] = pd.qcut(loop_df['tr_to_rest_scores_raw'], q=4, labels=['Q1', 'Q2', 'Q3', 'Q4'])\n",
    "    loop_df['center_QT_p2ll_scores'] = pd.qcut(loop_df['center_QT_p2ll_scores_raw'], q=4, labels=['Q1', 'Q2', 'Q3', 'Q4'])\n",
    "    loop_df['center_QT_tr_scores'] = pd.qcut(loop_df['center_QT_tr_scores_raw'], q=4, labels=['Q1', 'Q2', 'Q3', 'Q4'])\n",
    "    loop_df['center_QT_p2m_scores'] = pd.qcut(loop_df['center_QT_p2m_scores_raw'], q=4, labels=['Q1', 'Q2', 'Q3', 'Q4'])\n",
    "    loop_df['anchor_body_scores'] = pd.qcut(loop_df['anchor_body_scores_raw'], q=4, labels=['Q1', 'Q2', 'Q3', 'Q4'])\n",
    "    \n",
    "    loop_df['start'] = loop_df['start1']\n",
    "    loop_df['end'] = loop_df['end2']\n",
    "    loop_df['chrom'] = loop_df['chrom1'] \n",
    "    loop_dfs.append(loop_df)\n",
    "\n",
    "print(loops_map_idx)"
   ]
  },
  {
   "cell_type": "code",
   "execution_count": 50,
   "id": "3776ab40",
   "metadata": {},
   "outputs": [],
   "source": [
    "n_bins_flank, n_bins_main = 100, 315\n",
    "bw_per_key = [_bw_data(\n",
    "    loop_df, \n",
    "    flank=apa_flank, \n",
    "    n_bins_start=n_bins_flank, \n",
    "    n_bins_end=n_bins_flank, \n",
    "    n_bins_main=n_bins_main) for loop_df in loop_dfs]"
   ]
  },
  {
   "cell_type": "code",
   "execution_count": 53,
   "metadata": {},
   "outputs": [
    {
     "name": "stderr",
     "output_type": "stream",
     "text": [
      "/tmp/ipykernel_7956/4090145556.py:27: RuntimeWarning: More than 20 figures have been opened. Figures created through the pyplot interface (`matplotlib.pyplot.figure`) are retained until explicitly closed and may consume too much memory. (To control this warning, see the rcParam `figure.max_open_warning`). Consider using `matplotlib.pyplot.close()`.\n",
      "  fig, ax = plt.subplots(\n"
     ]
    },
    {
     "data": {
      "text/plain": [
       "<Figure size 1728x432 with 0 Axes>"
      ]
     },
     "metadata": {},
     "output_type": "display_data"
    },
    {
     "data": {
      "text/plain": [
       "<Figure size 1728x432 with 0 Axes>"
      ]
     },
     "metadata": {},
     "output_type": "display_data"
    },
    {
     "data": {
      "text/plain": [
       "<Figure size 1728x432 with 0 Axes>"
      ]
     },
     "metadata": {},
     "output_type": "display_data"
    },
    {
     "data": {
      "text/plain": [
       "<Figure size 1728x432 with 0 Axes>"
      ]
     },
     "metadata": {},
     "output_type": "display_data"
    },
    {
     "data": {
      "text/plain": [
       "<Figure size 1728x432 with 0 Axes>"
      ]
     },
     "metadata": {},
     "output_type": "display_data"
    },
    {
     "data": {
      "text/plain": [
       "<Figure size 1728x432 with 0 Axes>"
      ]
     },
     "metadata": {},
     "output_type": "display_data"
    },
    {
     "data": {
      "text/plain": [
       "<Figure size 1728x432 with 0 Axes>"
      ]
     },
     "metadata": {},
     "output_type": "display_data"
    },
    {
     "data": {
      "text/plain": [
       "<Figure size 1728x432 with 0 Axes>"
      ]
     },
     "metadata": {},
     "output_type": "display_data"
    },
    {
     "data": {
      "text/plain": [
       "<Figure size 1728x432 with 0 Axes>"
      ]
     },
     "metadata": {},
     "output_type": "display_data"
    },
    {
     "data": {
      "text/plain": [
       "<Figure size 1728x432 with 0 Axes>"
      ]
     },
     "metadata": {},
     "output_type": "display_data"
    },
    {
     "data": {
      "text/plain": [
       "<Figure size 1728x432 with 0 Axes>"
      ]
     },
     "metadata": {},
     "output_type": "display_data"
    },
    {
     "data": {
      "text/plain": [
       "<Figure size 1728x432 with 0 Axes>"
      ]
     },
     "metadata": {},
     "output_type": "display_data"
    },
    {
     "data": {
      "text/plain": [
       "<Figure size 1728x432 with 0 Axes>"
      ]
     },
     "metadata": {},
     "output_type": "display_data"
    },
    {
     "data": {
      "text/plain": [
       "<Figure size 1728x432 with 0 Axes>"
      ]
     },
     "metadata": {},
     "output_type": "display_data"
    },
    {
     "data": {
      "text/plain": [
       "<Figure size 1728x432 with 0 Axes>"
      ]
     },
     "metadata": {},
     "output_type": "display_data"
    },
    {
     "data": {
      "text/plain": [
       "<Figure size 1728x432 with 0 Axes>"
      ]
     },
     "metadata": {},
     "output_type": "display_data"
    },
    {
     "data": {
      "text/plain": [
       "<Figure size 1728x432 with 0 Axes>"
      ]
     },
     "metadata": {},
     "output_type": "display_data"
    },
    {
     "data": {
      "text/plain": [
       "<Figure size 1728x432 with 0 Axes>"
      ]
     },
     "metadata": {},
     "output_type": "display_data"
    },
    {
     "data": {
      "text/plain": [
       "<Figure size 1728x432 with 0 Axes>"
      ]
     },
     "metadata": {},
     "output_type": "display_data"
    },
    {
     "data": {
      "text/plain": [
       "<Figure size 1728x432 with 0 Axes>"
      ]
     },
     "metadata": {},
     "output_type": "display_data"
    },
    {
     "data": {
      "text/plain": [
       "<Figure size 1728x432 with 0 Axes>"
      ]
     },
     "metadata": {},
     "output_type": "display_data"
    },
    {
     "data": {
      "text/plain": [
       "<Figure size 1728x432 with 0 Axes>"
      ]
     },
     "metadata": {},
     "output_type": "display_data"
    },
    {
     "data": {
      "text/plain": [
       "<Figure size 1728x432 with 0 Axes>"
      ]
     },
     "metadata": {},
     "output_type": "display_data"
    },
    {
     "data": {
      "text/plain": [
       "<Figure size 1728x432 with 0 Axes>"
      ]
     },
     "metadata": {},
     "output_type": "display_data"
    },
    {
     "data": {
      "text/plain": [
       "<Figure size 1728x432 with 0 Axes>"
      ]
     },
     "metadata": {},
     "output_type": "display_data"
    },
    {
     "data": {
      "text/plain": [
       "<Figure size 1728x432 with 0 Axes>"
      ]
     },
     "metadata": {},
     "output_type": "display_data"
    },
    {
     "data": {
      "text/plain": [
       "<Figure size 1728x432 with 0 Axes>"
      ]
     },
     "metadata": {},
     "output_type": "display_data"
    },
    {
     "data": {
      "text/plain": [
       "<Figure size 1728x432 with 0 Axes>"
      ]
     },
     "metadata": {},
     "output_type": "display_data"
    },
    {
     "data": {
      "text/plain": [
       "<Figure size 1728x432 with 0 Axes>"
      ]
     },
     "metadata": {},
     "output_type": "display_data"
    },
    {
     "data": {
      "text/plain": [
       "<Figure size 1728x432 with 0 Axes>"
      ]
     },
     "metadata": {},
     "output_type": "display_data"
    },
    {
     "data": {
      "text/plain": [
       "<Figure size 1728x432 with 0 Axes>"
      ]
     },
     "metadata": {},
     "output_type": "display_data"
    },
    {
     "data": {
      "text/plain": [
       "<Figure size 1728x432 with 0 Axes>"
      ]
     },
     "metadata": {},
     "output_type": "display_data"
    },
    {
     "data": {
      "text/plain": [
       "<Figure size 1728x432 with 0 Axes>"
      ]
     },
     "metadata": {},
     "output_type": "display_data"
    },
    {
     "data": {
      "text/plain": [
       "<Figure size 1728x432 with 0 Axes>"
      ]
     },
     "metadata": {},
     "output_type": "display_data"
    },
    {
     "data": {
      "text/plain": [
       "<Figure size 1728x432 with 0 Axes>"
      ]
     },
     "metadata": {},
     "output_type": "display_data"
    },
    {
     "data": {
      "text/plain": [
       "<Figure size 1728x432 with 0 Axes>"
      ]
     },
     "metadata": {},
     "output_type": "display_data"
    }
   ],
   "source": [
    "from scipy.ndimage import gaussian_filter1d\n",
    "\n",
    "sigma = 2 # None for no smoothing\n",
    "score_types = ['p2m_scores', 'p2ll_scores', 'tr_to_rest_scores', 'center_QT_p2ll_scores', 'center_QT_tr_scores', 'center_QT_p2m_scores']\n",
    "\n",
    "\n",
    "types_dict = {\n",
    "      \"specific_loops1\": \"Control Specific\", \n",
    "      \"specific_loops2\": \"12Min Specific\", \n",
    "      \"common_loops\": \"Common\", \n",
    "      \"all\": \"All Loops\"}\n",
    "\n",
    "rep_names = ['rep-eff-cpd', 'rep-eff-64', 'xr-cpd-over-sim', 'xr-64-over-sim', 'ds-cpd-over-sim', 'ds-64-over-sim']\n",
    "rep_names_dict = {\n",
    "    'rep-eff-cpd': 'Repair Efficiency - CPD',\n",
    "    'rep-eff-64': 'Repair Efficiency - 6-4PP',\n",
    "    'xr-cpd-over-sim': 'CPD - Normalized Repair Levels',\n",
    "    'xr-64-over-sim': '6-4PP - Normalized Repair Levels',\n",
    "    'ds-cpd-over-sim': 'CPD - Normalized Damage Sensitivity',\n",
    "    'ds-64-over-sim': '6-4PP - Normalized Damage Sensitivity',\n",
    "}\n",
    "\n",
    "for scores_type_for_quantile in score_types:\n",
    "\n",
    "    for rep_name in rep_names:\n",
    "\n",
    "        fig, ax = plt.subplots(\n",
    "            nrows=1, ncols=3,\n",
    "            figsize=(24, 6),\n",
    "            sharex=True,\n",
    "            sharey=True,\n",
    "            )\n",
    "\n",
    "        for i, (start_data, main_data, end_data) in enumerate(bw_per_key):   \n",
    "\n",
    "            loop_type = list(loops_map_idx.keys())[i]\n",
    "\n",
    "            plot_dict = {\n",
    "                \"n_range\": [],\n",
    "                \"data\": [],\n",
    "                \"score_label\": [],\n",
    "                }\n",
    "\n",
    "            current_loop_df = loop_dfs[i].copy().reset_index(drop=True)\n",
    "            for score_label in ['Q1', 'Q2', 'Q3', 'Q4']:\n",
    "\n",
    "                current_loop_df_idx = current_loop_df[current_loop_df[scores_type_for_quantile] == score_label].index.to_list()\n",
    "                \n",
    "                main = np.nanmean(np.take(main_data[rep_name], current_loop_df_idx, 0), axis=0)\n",
    "                start = np.nanmean(np.take(start_data[rep_name], current_loop_df_idx, 0), axis=0)\n",
    "                end = np.nanmean(np.take(end_data[rep_name], current_loop_df_idx, 0), axis=0)\n",
    "\n",
    "                data = np.hstack([start, main, end]) \n",
    "                data = data if sigma == None else gaussian_filter1d(data, sigma=sigma)\n",
    "\n",
    "                plot_dict[\"n_range\"].extend(list(np.arange(data.shape[0])))\n",
    "                plot_dict[\"data\"].extend(list(data))\n",
    "\n",
    "                score_label_size = f\"{score_label} n={len(current_loop_df_idx)}\"\n",
    "                # score label should be size of the number of loops in that quantile, and mean of the score\n",
    "                raw_score_name = scores_type_for_quantile.replace(\"_scores\", \"_scores_raw\")\n",
    "                mean_score = np.nanmean(current_loop_df[current_loop_df[scores_type_for_quantile] == score_label][raw_score_name])\n",
    "                score_label = f\"{score_label} n={len(current_loop_df_idx)}, mean={mean_score.round(3)}\"\n",
    "                plot_dict[\"score_label\"].extend([score_label] * data.shape[0])\n",
    "                \n",
    "                #plot_dict[\"score_label\"].extend([score_label_size] * data.shape[0])\n",
    "            \n",
    "########################     Mean       ##########################################################\n",
    "            plot_dict_mean = {\n",
    "                \"n_range\": [],\n",
    "                \"data\": [],\n",
    "                }\n",
    "            \n",
    "            main = np.nanmean(main_data[rep_name], axis=0)\n",
    "            start = np.nanmean(start_data[rep_name], axis=0)\n",
    "            end = np.nanmean(end_data[rep_name], axis=0)\n",
    "\n",
    "            data = np.hstack([start, main, end]) \n",
    "            data = data if sigma == None else gaussian_filter1d(data, sigma=sigma)\n",
    "\n",
    "            plot_dict_mean[\"n_range\"].extend(list(np.arange(data.shape[0])))\n",
    "            plot_dict_mean[\"data\"].extend(list(data))\n",
    "\n",
    "##############################################################################################################\n",
    "\n",
    "            color_palette = [\"#9DBBAE\", \"#F5B841\", \"#A63446\", \"#465775\"]\n",
    "\n",
    "            plot_df = pd.DataFrame(plot_dict)\n",
    "\n",
    "            l = sns.lineplot(\n",
    "                x=\"n_range\",\n",
    "                y=\"data\",\n",
    "                hue=\"score_label\",\n",
    "                data=plot_df,\n",
    "                ax=ax[i],\n",
    "                palette=color_palette,\n",
    "                legend=True,\n",
    "                alpha=1,\n",
    "                )\n",
    "\n",
    "            # dashed line\n",
    "            mean_l = sns.lineplot(\n",
    "                x=\"n_range\",\n",
    "                y=\"data\",\n",
    "                data=pd.DataFrame(plot_dict_mean),\n",
    "                ax=ax[i],\n",
    "                color=\"red\",\n",
    "                legend=False,\n",
    "                alpha=0.6,\n",
    "                )\n",
    "            l.lines[-1].set_linestyle(\"--\")\n",
    "            \n",
    "            # change legend title\n",
    "            new_title = 'Loop Strength Quantiles'\n",
    "            l.legend_.set_title(new_title)\n",
    "\n",
    "            l.set_title(\n",
    "                types_dict[loop_type],\n",
    "                fontsize=16)\n",
    "\n",
    "            # increase font size \n",
    "            l.tick_params(axis='both', which='major', labelsize=20)\n",
    "            l.tick_params(axis='both', which='minor', labelsize=20)\n",
    "\n",
    "            total_bins = n_bins_flank + n_bins_flank + n_bins_main\n",
    "            l.set_xticks([n_bins_flank, total_bins//2, total_bins - n_bins_flank])\n",
    "            l.set_xticklabels([\"5' Anchor\", 'Intra-Loop', \"3' Anchor\"], fontsize=12)\n",
    "            l.set_xlabel('')\n",
    "\n",
    "            l.set_ylabel(rep_names_dict[rep_name], fontsize=14)\n",
    "\n",
    "            l.axvline(n_bins_flank, linestyle='-', color='black', alpha=0.6)\n",
    "            l.axvline(total_bins - n_bins_flank, linestyle='-', color='black', alpha=0.6)\n",
    "            l.tick_params(axis='both', which='major', labelsize=12)\n",
    "\n",
    "            for tick in l.get_xticklabels():\n",
    "                tick.set_rotation(15)\n",
    "\n",
    "            # remove legend\n",
    "            l.get_legend().remove()\n",
    "\n",
    "        if length_filter is not None:\n",
    "            len_name = f\"{length_filter[0]//1000}_{length_filter[1]//1000}kb\"\n",
    "        else:\n",
    "            len_name = \"All\"\n",
    "        flank_name = f\"{apa_flank//1000}kb\"\n",
    "        #fig.savefig(f\"loop_str_quantiles/t0_t12_loop_strQuantiles_{scores_type_for_quantile}_{rep_name}_size{len_name}_flank{flank_name}.png\")\n",
    "        fig.savefig(f\"loop_str_quantiles/t0_t12_loop_strQuantiles_{scores_type_for_quantile}_{rep_name}_size{len_name}_flank{flank_name}.svg\")\n",
    "        fig.clf()"
   ]
  },
  {
   "cell_type": "markdown",
   "id": "1750c1cd",
   "metadata": {},
   "source": [
    "## Flank scaled"
   ]
  },
  {
   "cell_type": "code",
   "execution_count": null,
   "id": "5cb5884c",
   "metadata": {},
   "outputs": [],
   "source": [
    "# def _bw_data_flank_scaled(\n",
    "#     curr_DF,\n",
    "#     flank_ratio=0.1,\n",
    "#     total_bins=120,\n",
    "#     mean_norm=True):\n",
    "    \n",
    "#     body_length = curr_DF.end - curr_DF.start\n",
    "#     flank_size = (body_length * flank_ratio).astype(int)\n",
    "\n",
    "#     main_data = {k: bbi.stackup(v,\n",
    "#                             curr_DF.chrom,\n",
    "#                             curr_DF.start - flank_size,\n",
    "#                             curr_DF.end + flank_size,\n",
    "#                             bins=120) \n",
    "#                             for k, v in BWS.items()\n",
    "#                             }\n",
    "\n",
    "#     if mean_norm:\n",
    "#         for k in main_data:\n",
    "#             main_data[k] = main_data[k] / MEANS_BW[k]\n",
    "            \n",
    "#     return main_data"
   ]
  },
  {
   "cell_type": "code",
   "execution_count": null,
   "id": "39f614bd",
   "metadata": {},
   "outputs": [],
   "source": [
    "# flank_ratio = 0.25\n",
    "# main_bins = 300\n",
    "# total_bins = 300 + 2 * int(main_bins * flank_ratio)\n",
    "# bw_per_key_scaled = [_bw_data_flank_scaled(loop_df, flank_ratio=flank_ratio, total_bins=total_bins) for loop_df in loop_dfs]"
   ]
  },
  {
   "cell_type": "code",
   "execution_count": null,
   "id": "e49e0702",
   "metadata": {},
   "outputs": [],
   "source": [
    "# from scipy.ndimage import gaussian_filter1d\n",
    "\n",
    "# sigma = None # None for no smoothing\n",
    "# score_types = ['p2m_scores', 'p2ll_scores', 'tr_to_rest_scores', 'center_QT_p2ll_scores', 'center_QT_tr_scores', 'center_QT_p2m_scores']\n",
    "\n",
    "# types_dict = {\n",
    "#       \"specific_loops1\": \"Unique Loops - Control\", \n",
    "#       \"specific_loops2\": \"Unique Loops - 12 Min\", \n",
    "#       \"common_loops\": \"Common Loops\",  \n",
    "#       \"all\": \"All Loops\"}\n",
    "\n",
    "# rep_names = ['rep-eff-cpd', 'rep-eff-64', 'xr-cpd-over-sim', 'xr-64-over-sim', 'ds-cpd-over-sim', 'ds-64-over-sim']\n",
    "# rep_names_dict = {\n",
    "#     'rep-eff-cpd': 'Repair Efficiency - CPD',\n",
    "#     'rep-eff-64': 'Repair Efficiency - 6-4PP',\n",
    "#     'xr-cpd-over-sim': 'CPD - Repair Levels',\n",
    "#     'xr-64-over-sim': '6-4PP - Repair Levels',\n",
    "#     'ds-cpd-over-sim': 'CPD - Damage Sensitivity',\n",
    "#     'ds-64-over-sim': '6-4PP - Damage Sensitivity',\n",
    "# }\n",
    "# for scores_type_for_quantile in score_types:\n",
    "\n",
    "#     for rep_name in rep_names:\n",
    "\n",
    "#         fig, ax = plt.subplots(\n",
    "#             nrows=1, ncols=3,\n",
    "#             figsize=(20, 10),\n",
    "#             sharex=True,\n",
    "#             sharey=True,\n",
    "#             )\n",
    "\n",
    "#         for i, main_data in enumerate(bw_per_key_scaled):   \n",
    "\n",
    "#             loop_type = list(loops_map_idx.keys())[i]\n",
    "\n",
    "#             plot_dict = {\n",
    "#                 \"n_range\": [],\n",
    "#                 \"data\": [],\n",
    "#                 \"score_label\": [],\n",
    "#                 }\n",
    "\n",
    "#             current_loop_df = loop_dfs[i].copy().reset_index(drop=True)\n",
    "#             for score_label in ['Q1', 'Q2', 'Q3', 'Q4']:\n",
    "\n",
    "#                 current_loop_df_idx = current_loop_df[current_loop_df[scores_type_for_quantile] == score_label].index.to_list()\n",
    "                \n",
    "#                 data = np.nanmean(np.take(main_data[rep_name], current_loop_df_idx, 0), axis=0)\n",
    "#                 data = data if sigma == None else gaussian_filter1d(data, sigma=sigma)\n",
    "\n",
    "#                 plot_dict[\"n_range\"].extend(list(np.arange(data.shape[0])))\n",
    "#                 plot_dict[\"data\"].extend(list(data))\n",
    "\n",
    "#                 score_label_size = f\"{score_label} n={len(current_loop_df_idx)}\"\n",
    "#                 plot_dict[\"score_label\"].extend([score_label_size] * data.shape[0])\n",
    "            \n",
    "# ########################     Mean       ##########################################################\n",
    "#             plot_dict_mean = {\n",
    "#                 \"n_range\": [],\n",
    "#                 \"data\": [],\n",
    "#                 }\n",
    "            \n",
    "#             data = np.nanmean(main_data[rep_name], axis=0)\n",
    "#             data = data if sigma == None else gaussian_filter1d(data, sigma=sigma)\n",
    "\n",
    "#             plot_dict_mean[\"n_range\"].extend(list(np.arange(data.shape[0])))\n",
    "#             plot_dict_mean[\"data\"].extend(list(data))\n",
    "\n",
    "# ##############################################################################################################\n",
    "\n",
    "#             color_palette = [\"#9DBBAE\", \"#F5B841\", \"#A63446\", \"#465775\"]\n",
    "\n",
    "#             plot_df = pd.DataFrame(plot_dict)\n",
    "\n",
    "#             l = sns.lineplot(\n",
    "#                 x=\"n_range\",\n",
    "#                 y=\"data\",\n",
    "#                 hue=\"score_label\",\n",
    "#                 data=plot_df,\n",
    "#                 ax=ax[i],\n",
    "#                 palette=color_palette,\n",
    "#                 legend=True,\n",
    "#                 alpha=0.9,\n",
    "#                 )\n",
    "\n",
    "#             # dashed line\n",
    "#             mean_l = sns.lineplot(\n",
    "#                 x=\"n_range\",\n",
    "#                 y=\"data\",\n",
    "#                 data=pd.DataFrame(plot_dict_mean),\n",
    "#                 ax=ax[i],\n",
    "#                 color=\"red\",\n",
    "#                 legend=False,\n",
    "#                 alpha=0.8,\n",
    "#                 )\n",
    "#             l.lines[-1].set_linestyle(\"--\")\n",
    "            \n",
    "#             # change legend title\n",
    "#             new_title = 'Loop Strength Quantiles'\n",
    "#             l.legend_.set_title(new_title)\n",
    "\n",
    "#             l.set_title(\n",
    "#                 types_dict[loop_type],\n",
    "#                 fontsize=20)\n",
    "\n",
    "#             # increase font size \n",
    "#             # l.tick_params(axis='both', which='major', labelsize=20)\n",
    "#             # l.tick_params(axis='both', which='minor', labelsize=20)\n",
    "\n",
    "#             # flanks = (total_bins - main_bins) // 2\n",
    "#             # l.set_xticks([flanks, main_bins//2, total_bins-flanks])\n",
    "#             # l.set_xticklabels([\"5' Anchor\", 'Intra-Loop', \"3' Anchor\"], fontsize=14)\n",
    "#             # l.set_xlabel('')\n",
    "\n",
    "#             # l.set_ylabel(rep_names_dict[rep_name], fontsize=20)\n",
    "\n",
    "#             # l.axvline(flanks, linestyle='-', color='black', alpha=0.8)\n",
    "#             # l.axvline(total_bins-flanks, linestyle='-', color='black', alpha=0.8)\n",
    "#             # l.tick_params(axis='both', which='major', labelsize=14)\n",
    "\n",
    "#         if length_filter is not None:\n",
    "#             len_name = f\"{length_filter[0]//1000}_{length_filter[1]//1000}kb\"\n",
    "#         else:\n",
    "#             len_name = \"All\"\n",
    "#         flank_name = f\"{apa_flank//1000}kb\"\n",
    "#         fig.savefig(f\"loop_str_quantiles_mc_{merge_common}/t0_t12_loop_strQuantiles_{scores_type_for_quantile}_{rep_name}_size{len_name}_flank{flank_name}.svg\")\n",
    "#         #fig.savefig(f\"loop_str_quantiles/t0_t12_loop_strQuantiles_{scores_type_for_quantile}_{rep_name}_size{len_name}_flank{flank_name}.png\", dpi=600)\n",
    "#         fig.clf()"
   ]
  },
  {
   "cell_type": "markdown",
   "metadata": {},
   "source": [
    "## Dots ~ Size"
   ]
  },
  {
   "cell_type": "code",
   "execution_count": null,
   "metadata": {},
   "outputs": [],
   "source": [
    "fig, ax = plt.subplots(figsize=(10, 10))\n",
    "lens = []\n",
    "plot_df = {\n",
    "    'len': [],\n",
    "    'sample': [],\n",
    "}\n",
    "sample_names= [\"Control\", \"12min\", \"30min\", \"60min\"]\n",
    "for i in range(4):\n",
    "    dots_df = dots_df_[i].copy()\n",
    "    dots_df['loop_length'] = dots_df['end2'] - dots_df['start1']\n",
    "    plot_df['len'].extend(list(dots_df['loop_length']))\n",
    "    plot_df['sample'].extend([sample_names[i]] * dots_df.shape[0])\n",
    "plot_df = pd.DataFrame(plot_df)\n",
    "s = sns.histplot(plot_df, x=\"len\", hue=\"sample\", bins=200, kde=False, stat=\"percent\", common_norm=False, log_scale=False, ax=ax, fill=False, linewidth=.5)\n",
    "s.set_xlim(100_000, 1e6)\n",
    "# set x ticks \n",
    "s.set_xticks(np.arange(100_000, 1e6, 50_000), minor=True)\n",
    "# set x labels to rotate\n",
    "s.set_xticklabels(s.get_xticklabels(), rotation=45)"
   ]
  },
  {
   "cell_type": "code",
   "execution_count": null,
   "id": "72e0bbcc",
   "metadata": {},
   "outputs": [],
   "source": [
    "# dots_df = dots_df_[0].copy()\n",
    "# dots_df['loop_length'] = dots_df['end2'] - dots_df['start1']\n",
    "\n",
    "# use common loops between 0 - 12\n",
    "\n",
    "dots_df = loops_comp_[('t0', 't12')]['common_loops'].copy()\n",
    "dots_df['loop_length'] = dots_df['start2'] - dots_df['start1']"
   ]
  },
  {
   "cell_type": "code",
   "execution_count": null,
   "metadata": {},
   "outputs": [],
   "source": [
    "interval_size = 1000\n",
    "bws_per_key = {}\n",
    "for k in BWS.keys():\n",
    "    per_chr = []\n",
    "    for chrName in chrom_sizes.index:\n",
    "        chrLen = chrom_sizes.loc[chrName]\n",
    "        start, end = 0, chrLen // interval_size * interval_size\n",
    "        n_bins = end // interval_size\n",
    "        arr_chr = bbi.fetch(\n",
    "            BWS[k],\n",
    "            chrName,\n",
    "            start,\n",
    "            end,\n",
    "            bins=n_bins,\n",
    "        )\n",
    "        \n",
    "        per_chr.append(arr_chr / MEANS_BW[k])\n",
    "    bws_per_key[k] = per_chr\n",
    "\n",
    "chrom_sizes = bioframe.fetch_chromsizes(\"hg38\")[:23]\n",
    "\n",
    "data_df = []\n",
    "for k in BWS.keys():\n",
    "\n",
    "    regions = {\n",
    "        \"len\": [],\n",
    "        \"data\": [],\n",
    "        \"data_type\": k,\n",
    "    }\n",
    "\n",
    "    for i, row in dots_df.iterrows():\n",
    "        chrom, start, end = row['chrom1'], row['start1'], row['end2']\n",
    "        chrom_idx = chrom_sizes.index.get_loc(chrom)\n",
    "        curr_arr = bws_per_key[k][chrom_idx][start//interval_size:end//interval_size]\n",
    "        total_intervals = (end - start) // interval_size\n",
    "        tad_length = end - start\n",
    "        \n",
    "        if len(curr_arr) != total_intervals: # filter out regions that exceed the chromosome length\n",
    "            continue\n",
    "        if len(np.where(curr_arr == np.nan)[0]) >= len(curr_arr * 10 / 100):\n",
    "            print(\"nan\")\n",
    "            continue\n",
    "        tad_mean_val = np.nanmean(curr_arr)\n",
    "\n",
    "        regions[\"len\"].append(tad_length)\n",
    "        regions[\"data\"].append(tad_mean_val)\n",
    "\n",
    "    tad_df = pd.DataFrame(regions)\n",
    "    data_df.append(tad_df)\n",
    "\n",
    "data_df = pd.concat(data_df)"
   ]
  },
  {
   "cell_type": "code",
   "execution_count": null,
   "metadata": {},
   "outputs": [],
   "source": [
    "from scipy.stats import pearsonr\n",
    "\n",
    "fig, ax = plt.subplots(\n",
    "    ncols=2,\n",
    "    nrows=1,\n",
    "    figsize=(20, 7.5),\n",
    "    sharex=True,\n",
    "    sharey=True,)\n",
    "\n",
    "data_names = ['rep-eff-64', 'rep-eff-cpd', 'xr-64-over-sim', 'xr-cpd-over-sim', 'ds-64-over-sim', 'ds-cpd-over-sim']\n",
    "data_names = ['xr-cpd-over-sim', 'xr-64-over-sim']\n",
    "for i, rep_name in enumerate(data_names):\n",
    "    data = data_df.copy().reset_index(drop=True)\n",
    "    data = data.loc[data['data_type'] == rep_name]\n",
    "    data = data.loc[data['len'] <= 1.5e6]\n",
    "    data['len'] = data['len'] / 1e6\n",
    "    data = data.loc[data[\"data\"] != 0].reset_index(drop=True).copy()\n",
    "    ax_now = ax[i]\n",
    "    s = sns.regplot(\n",
    "        data=data,\n",
    "        x='len', y='data', \n",
    "        # change marker size to 1\n",
    "        scatter_kws = {\"color\": \"#465775\", \"alpha\": 1, \"s\": 4},\n",
    "        line_kws = {\"color\": \"#C1121F\", \"lw\": 2}, fit_reg=True, order=1,\n",
    "        ax=ax[i])\n",
    "    s.axhline(1, color='black', linestyle='--', lw=2)\n",
    "\n",
    "    r = pearsonr(x=data['len'], y=data[\"data\"])[0]\n",
    "    s.text(0.80, 0.90, f\"r = {r:.3f}\", transform=s.transAxes, fontsize=16)\n",
    "\n",
    "    ax_now.ticklabel_format(style='plain', axis='both')\n",
    "    ax_now.axhline(1, color='black', linestyle='--', lw=2)\n",
    "    ax_now.tick_params(axis='both', which='major', labelsize=14)\n",
    "    ax_now.set_xlabel('Loop Length (Mb)', fontsize=18)\n",
    "    ax_now.set_ylabel('Normalized Repair Levels', fontsize=18) if i == 0 else ax_now.set_ylabel('')\n",
    "\n",
    "fig.savefig('loops_str_scores_sizes_repair_levels.svg', bbox_inches='tight')"
   ]
  },
  {
   "cell_type": "markdown",
   "id": "68452b58",
   "metadata": {},
   "source": [
    "## Loop scores ~ Damages"
   ]
  },
  {
   "cell_type": "code",
   "execution_count": null,
   "id": "f9da7b66",
   "metadata": {},
   "outputs": [],
   "source": [
    "#rep_names = ['ds-64-over-sim', 'ds-cpd-over-sim']\n",
    "rep_names = ['ds-cpd-over-sim']\n",
    "score_name = \"p2m_scores\"\n",
    "\n",
    "fig, ax = plt.subplots(\n",
    "    ncols=3,\n",
    "    nrows=1,\n",
    "    figsize=(20, 10),\n",
    "    sharex=True,\n",
    "    sharey=True,\n",
    "    )\n",
    "\n",
    "for idx, df in enumerate(loop_dfs):\n",
    "    plot_dict = {\n",
    "        \"n_range\": [],\n",
    "        \"data\": [],\n",
    "        \"score_label\": [],\n",
    "        }\n",
    "    for score_label in ['Q1', 'Q2', 'Q3', 'Q4']:\n",
    "        df_now = df[df[score_name] == score_label].reset_index()\n",
    "        _, main_data, _ = _bw_data(df_now, flank=apa_flank, n_bins_start=1, n_bins_end=1, n_bins_main=1)\n",
    "        main = main_data['ds-cpd-over-sim']\n",
    "        # start = np.nanmean(start_data['ds-cpd-over-sim'], axis=0)\n",
    "        # end = np.nanmean(end_data['ds-cpd-over-sim'], axis=0)\n",
    "        # data = np.hstack([start, main, end]) \n",
    "        data = main\n",
    "        data = data if sigma == None else gaussian_filter1d(data, sigma=sigma)\n",
    "        plot_dict[\"n_range\"].extend(list(np.arange(data.shape[0])))\n",
    "        plot_dict[\"data\"].extend(list(data))\n",
    "        score_label_size = f\"{score_label} n={len(df_now)} μ_rep={np.mean(data):.3g} μ={df_now['p2ll_scores_raw'].mean():.3g}\"\n",
    "        plot_dict[\"score_label\"].extend([score_label_size] * data.shape[0])\n",
    "\n",
    "    color_palette = [\"#465775\", \"#A63446\", \"#F5B841\", \"#9DBBAE\"]\n",
    "    plot_df = pd.DataFrame(plot_dict)\n",
    "    plot_df['data'] = [i[0] for i in plot_df['data']]\n",
    "    sns.violinplot(\n",
    "        x=\"score_label\",\n",
    "        y=\"data\",\n",
    "        hue=\"score_label\",\n",
    "        data=plot_df,\n",
    "        palette=color_palette,\n",
    "        ax=ax[idx],\n",
    "        )"
   ]
  },
  {
   "cell_type": "markdown",
   "id": "0db0daf0",
   "metadata": {},
   "source": [
    "### Custom Dot Viz"
   ]
  },
  {
   "cell_type": "code",
   "execution_count": null,
   "id": "d0fa9794",
   "metadata": {},
   "outputs": [],
   "source": [
    "def rectangles_around_dots(dots_df, region, loc=\"upper\", lw=1, ec=\"cyan\", fc=\"none\"):\n",
    "    \"\"\"\n",
    "    yield a series of rectangles around called dots in a given region\n",
    "    \"\"\"\n",
    "    # select dots from the region:\n",
    "    df_reg = bioframe.select(\n",
    "        bioframe.select(dots_df, region, cols=(\"chrom1\",\"start1\",\"end1\")),\n",
    "        region,\n",
    "        cols=(\"chrom2\",\"start2\",\"end2\"),\n",
    "    )\n",
    "    rectangle_kwargs = dict(lw=lw, ec=ec, fc=fc)\n",
    "    # draw rectangular \"boxes\" around pixels called as dots in the \"region\":\n",
    "    for s1, s2, e1, e2 in df_reg[[\"start1\", \"start2\", \"end1\", \"end2\"]].itertuples(index=False):\n",
    "        width1 = e1 - s1\n",
    "        width2 = e2 - s2\n",
    "        if loc == \"upper\":\n",
    "            yield patches.Rectangle((s2, s1), width2, width1, **rectangle_kwargs)\n",
    "        elif loc == \"lower\":\n",
    "            yield patches.Rectangle((s1, s2), width1, width2, **rectangle_kwargs)\n",
    "        else:\n",
    "            raise ValueError(\"loc has to be uppper or lower\")\n",
    "\n",
    "from matplotlib.ticker import EngFormatter\n",
    "bp_formatter = EngFormatter('b')\n",
    "def format_ticks(ax, x=True, y=True, rotate=True):\n",
    "    \"\"\"format ticks with genomic coordinates as human readable\"\"\"\n",
    "    if y:\n",
    "        ax.yaxis.set_major_formatter(bp_formatter)\n",
    "    if x:\n",
    "        ax.xaxis.set_major_formatter(bp_formatter)\n",
    "        ax.xaxis.tick_bottom()\n",
    "    if rotate:\n",
    "        ax.tick_params(axis='x',rotation=45)"
   ]
  },
  {
   "cell_type": "code",
   "execution_count": null,
   "id": "8fe9b367",
   "metadata": {},
   "outputs": [],
   "source": [
    "loop_df_now = {\n",
    "    \"chrom1\":[\"chr1\"],\n",
    "    \"start1\":[58780000],\n",
    "    \"end1\":[58790000],\n",
    "    \"chrom2\":[\"chr1\"],\n",
    "    \"start2\":[59750000],\n",
    "    \"end2\":[59760000],\n",
    "}\n",
    "\n",
    "dots_df_now = pd.DataFrame(loop_df_now)\n",
    "\n",
    "start = 58780000 + 500_000\n",
    "end = start + 10_000\n",
    "chromName = \"chr1\"\n",
    "\n",
    "sites = pd.DataFrame({\"chrom\": [chromName], \"start\": [start], \"end\": [end]})\n",
    "\n",
    "flank = 1_000_000\n",
    "\n",
    "comp_idx = [1, 0]"
   ]
  },
  {
   "cell_type": "code",
   "execution_count": null,
   "id": "1fbe50c8",
   "metadata": {},
   "outputs": [],
   "source": [
    "dots_df_now"
   ]
  },
  {
   "cell_type": "code",
   "execution_count": null,
   "id": "06339f25",
   "metadata": {},
   "outputs": [],
   "source": [
    "dots_df"
   ]
  },
  {
   "cell_type": "code",
   "execution_count": null,
   "id": "aab996e1",
   "metadata": {},
   "outputs": [],
   "source": [
    "mtx_arr = [\n",
    "    coolpup.pileup(clr_now, dots_df, features_format='bedpe', view_df=hg38_arms, expected_df=expected_now, flank=flank, local=False)\n",
    "    for clr_now, expected_now in zip(clrs_, expected_)]"
   ]
  },
  {
   "cell_type": "code",
   "execution_count": null,
   "id": "bdc54b29",
   "metadata": {},
   "outputs": [],
   "source": [
    "pup_divide = divide_pups(mtx_arr[0], mtx_arr[1])\n",
    "\n",
    "\n",
    "from matplotlib.colors import LogNorm\n",
    "\n",
    "cmp = LinearSegmentedColormap.from_list(\"custom_cmp\", [\"#14213D\", \"white\", \"#C42021\"], N=256)\n",
    "\n",
    "norm = LogNorm(vmin=0.5, vmax=2)\n",
    "fig, ax = plt.subplots(figsize=(10, 10))\n",
    "sns.heatmap(pup_divide.data[0], cmap=cmp, norm=norm, ax = ax)"
   ]
  },
  {
   "cell_type": "code",
   "execution_count": null,
   "id": "00056ef7",
   "metadata": {},
   "outputs": [],
   "source": []
  }
 ],
 "metadata": {
  "kernelspec": {
   "display_name": "gnn",
   "language": "python",
   "name": "python3"
  },
  "language_info": {
   "codemirror_mode": {
    "name": "ipython",
    "version": 3
   },
   "file_extension": ".py",
   "mimetype": "text/x-python",
   "name": "python",
   "nbconvert_exporter": "python",
   "pygments_lexer": "ipython3",
   "version": "3.11.0"
  }
 },
 "nbformat": 4,
 "nbformat_minor": 5
}
