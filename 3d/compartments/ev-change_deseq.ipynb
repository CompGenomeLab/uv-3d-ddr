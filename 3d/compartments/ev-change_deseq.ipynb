{
 "cells": [
  {
   "cell_type": "markdown",
   "metadata": {},
   "source": [
    "# Libraries"
   ]
  },
  {
   "cell_type": "code",
   "execution_count": 1,
   "metadata": {},
   "outputs": [
    {
     "name": "stderr",
     "output_type": "stream",
     "text": [
      "/home/carlos/micromamba/envs/gnn/lib/python3.11/site-packages/cooltools/lib/numutils.py:651: NumbaDeprecationWarning: The 'nopython' keyword argument was not supplied to the 'numba.jit' decorator. The implicit default value for this argument is currently False, but it will be changed to True in Numba 0.59.0. See https://numba.readthedocs.io/en/stable/reference/deprecation.html#deprecation-of-object-mode-fall-back-behaviour-when-using-jit for details.\n",
      "  @numba.jit  # (nopython=True)\n",
      "/home/carlos/micromamba/envs/gnn/lib/python3.11/site-packages/cooltools/lib/numutils.py:726: NumbaDeprecationWarning: The 'nopython' keyword argument was not supplied to the 'numba.jit' decorator. The implicit default value for this argument is currently False, but it will be changed to True in Numba 0.59.0. See https://numba.readthedocs.io/en/stable/reference/deprecation.html#deprecation-of-object-mode-fall-back-behaviour-when-using-jit for details.\n",
      "  @numba.jit  # (nopython=True)\n"
     ]
    }
   ],
   "source": [
    "import cooler\n",
    "import bbi\n",
    "from sklearn.preprocessing import MinMaxScaler, QuantileTransformer\n",
    "import cooltools\n",
    "import bioframe\n",
    "\n",
    "import tqdm\n",
    "\n",
    "import pandas as pd\n",
    "import numpy as np\n",
    "import multiprocess as mp\n",
    "\n",
    "import seaborn as sns\n",
    "import matplotlib.pyplot as plt"
   ]
  },
  {
   "cell_type": "code",
   "execution_count": 2,
   "metadata": {},
   "outputs": [],
   "source": [
    "# clr = cooler.Cooler(f\"/home/carlos/oldies/manuscripts/notebooks/matrices/t0_q30.mcool::/resolutions/1000\")\n",
    "# bins = clr.bins()[:].iloc[:, :3]\n",
    "# import bbi\n",
    "# data = bbi.stackup(\n",
    "#     \"/home/carlos/oldies/manuscripts/notebooks/bws/XR_CPD_real_over_sim_res1000.bw\",\n",
    "#     bins.chrom,\n",
    "#     bins.start,\n",
    "#     bins.end,\n",
    "#     1\n",
    "# )"
   ]
  },
  {
   "cell_type": "code",
   "execution_count": 3,
   "metadata": {},
   "outputs": [],
   "source": [
    "# from cooltools.api.saddle import _make_binedges\n",
    "\n",
    "# def digitize(track_values, n_bins, vrange=None, qrange=None):\n",
    "#     binedges, lo, hi = _make_binedges(\n",
    "#         track_values, n_bins, vrange=vrange, qrange=qrange\n",
    "#     )\n",
    "#     digits = np.digitize(track_values, binedges, right=False).astype(float)\n",
    "#     d_range = range(1, n_bins + 1)\n",
    "#     digits = pd.Series(digits)\n",
    "#     digits.loc[~digits.isin(d_range)] = pd.NA\n",
    "#     return digits\n",
    "\n",
    "# bins_d = bins.copy()\n",
    "# bins_d['scaled_signal'] = digitize(data.flatten(), 1000, qrange=(0, 1))\n",
    "\n",
    "# scaler = MinMaxScaler(feature_range=(0, 1))\n",
    "# bins_d['scaled_signal'] = scaler.fit_transform(bins_d[['scaled_signal']]).flatten()\n",
    "# chromsizes = bioframe.fetch_chromsizes('hg38')\n",
    "# bins_d = bins_d.loc[bins_d.scaled_signal != 0]\n",
    "\n",
    "# bioframe.to_bigwig(\n",
    "#     bins_d,\n",
    "#     chromsizes=chromsizes,\n",
    "#     outpath=\"/home/carlos/oldies/manuscripts/notebooks/bws/XR_CPD_real_over_sim_res1000.scaled.bw\",\n",
    "#     value_field='scaled_signal',\n",
    "# )"
   ]
  },
  {
   "cell_type": "code",
   "execution_count": 4,
   "metadata": {},
   "outputs": [],
   "source": [
    "# bed = pd.read_csv(\"/home/carlos/Downloads/ENCFF950NDW.bed\", sep='\\t', header=None)\n",
    "# def rpkm(counts):\n",
    "#     return counts * 1_000_000 / counts.sum()\n",
    "\n",
    "# bed_out = bed.copy().iloc[:, :3]\n",
    "# bed_out.columns = ['chrom', 'start', 'end']\n",
    "# bed_out['rpkm'] = rpkm(bed[6])\n",
    "# chromsizes = bioframe.fetch_chromsizes('hg38')\n",
    "# bioframe.to_bigwig(\n",
    "#     bins_d,\n",
    "#     chromsizes=chromsizes,\n",
    "#     outpath=\"/home/carlos/oldies/manuscripts/notebooks/bws/dnase.rpkm.bw\",\n",
    "#     value_field='scaled_signal',\n",
    "# )"
   ]
  },
  {
   "cell_type": "markdown",
   "metadata": {},
   "source": [
    "# Prepare Data"
   ]
  },
  {
   "cell_type": "markdown",
   "metadata": {},
   "source": [
    "### Eigen"
   ]
  },
  {
   "cell_type": "code",
   "execution_count": 19,
   "metadata": {},
   "outputs": [],
   "source": [
    "RESOLUTION = 25_000\n",
    "NPROC = 4\n",
    "SAMPLES = [0, 12, 30, 60]\n",
    "res_readeble = RESOLUTION // 1_000\n",
    "\n",
    "phasing_option = \"gc\"\n",
    "q_range = (0.05, 0.975)\n",
    "\n",
    "rna_s1 = \"0\"\n",
    "rna_s2 = \"12\"\n",
    "ev_s1 = \"0\"\n",
    "ev_s2 = \"12\"\n",
    "\n",
    "ev_mapping = {\n",
    "    \"gc\": \"\",\n",
    "    \"pol\": \"_pol\",\n",
    "}\n",
    "phasing_name = ev_mapping[phasing_option]\n",
    "ev_bins_df = pd.read_csv(f\"e1_{res_readeble}kb{phasing_name}.tsv\", sep=\"\\t\")"
   ]
  },
  {
   "cell_type": "code",
   "execution_count": 20,
   "metadata": {},
   "outputs": [],
   "source": [
    "# clr = cooler.Cooler(\n",
    "#     f\"/home/carlos/oldies/manuscripts/notebooks/matrices/t0_q30.mcool::/resolutions/{RESOLUTION}\"\n",
    "# )\n",
    "\n",
    "# view_df = pd.DataFrame(\n",
    "#     {\n",
    "#         \"chrom\": clr.chromnames,\n",
    "#         \"start\": 0,\n",
    "#         \"end\": clr.chromsizes.values,\n",
    "#         \"name\": clr.chromnames,\n",
    "#     }\n",
    "# )\n",
    "# bins = clr.bins()[:]"
   ]
  },
  {
   "cell_type": "code",
   "execution_count": 21,
   "metadata": {},
   "outputs": [],
   "source": [
    "from cooltools.api.saddle import _make_binedges\n",
    "\n",
    "def digitize(track_values, n_bins, vrange=None, qrange=None):\n",
    "    binedges, lo, hi = _make_binedges(\n",
    "        track_values, n_bins, vrange=vrange, qrange=qrange\n",
    "    )\n",
    "    digits = np.digitize(track_values, binedges, right=False).astype(float)\n",
    "    d_range = range(1, n_bins + 1)\n",
    "    digits = pd.Series(digits)\n",
    "    digits.loc[~digits.isin(d_range)] = pd.NA\n",
    "    return digits"
   ]
  },
  {
   "cell_type": "code",
   "execution_count": 22,
   "metadata": {},
   "outputs": [],
   "source": [
    "# # write bigwigs\n",
    "# n_bins = 1000\n",
    "# chromsizes = bioframe.fetch_chromsizes('hg38')\n",
    "# for i, sample in enumerate(SAMPLES):\n",
    "#     bins_now = bins.iloc[:, :3].copy()\n",
    "    \n",
    "#     vec = eigen_data[i][1]['E1'].to_numpy()\n",
    "    \n",
    "#     vec = vec - np.nanmean(vec)\n",
    "\n",
    "#     # digits = digitize(vec, n_bins, qrange=(0,1))\n",
    "#     # bins_now[f\"E1_{sample}\"] = digits\n",
    "    \n",
    "#     # scaler = MinMaxScaler(feature_range=(-1, 1))\n",
    "#     # bins_now[f\"E1_{sample}\"] = scaler.fit_transform(bins_now[f\"E1_{sample}\"].values.reshape(-1, 1))\n",
    "#     bins_now[f\"E1_{sample}\"] = vec\n",
    "#     #bins_now.dropna(inplace=True)\n",
    "#     RESOLUTION_READABLE = f\"{RESOLUTION // 1_000}kb\"\n",
    "#     bioframe.to_bigwig(\n",
    "#         bins_now,\n",
    "#         chromsizes=chromsizes,\n",
    "#         outpath=f\"/home/carlos/oldies/manuscripts/review/compartments/ev_bigwigs/E1_{sample}.res.{RESOLUTION_READABLE}.bw\",\n",
    "#         value_field=f\"E1_{sample}\",\n",
    "#     )\n",
    "#     break"
   ]
  },
  {
   "cell_type": "code",
   "execution_count": 23,
   "metadata": {},
   "outputs": [],
   "source": [
    "# bins = clr.bins()[:]\n",
    "# hg38_genome = bioframe.load_fasta('./hg38.fa');\n",
    "# gc_cov = bioframe.frac_gc(bins[['chrom', 'start', 'end']], hg38_genome)\n",
    "# gc_cov.to_csv('hg38_gc_cov_25kb.tsv',index=False,sep='\\t')\n",
    "# gc_cov.to_csv('hg38_gc_cov_50kb.tsv',index=False,sep='\\t')\n",
    "# gc_cov.to_csv('hg38_gc_cov_100kb.tsv',index=False,sep='\\t')"
   ]
  },
  {
   "cell_type": "code",
   "execution_count": 24,
   "metadata": {},
   "outputs": [],
   "source": [
    "# gc_cov = pd.read_csv(f\"hg38_gc_cov_{res_readeble}kb.tsv\", sep=\"\\t\")\n",
    "\n",
    "# eigen_data = []\n",
    "# n_eig = 3\n",
    "\n",
    "# for sample_idx, sample in enumerate(SAMPLES):\n",
    "#     clr = cooler.Cooler(\n",
    "#         f\"/home/carlos/oldies/manuscripts/notebooks/matrices/t{sample}_q30.mcool::/resolutions/{RESOLUTION}\"\n",
    "#     )\n",
    "#     map_ = mp.Pool(NPROC).map\n",
    "\n",
    "#     cis_eigs = cooltools.eigs_cis(\n",
    "#         clr, gc_cov, view_df=view_df, n_eigs=n_eig, map=map_\n",
    "#     )\n",
    "#     eigen_data.append(cis_eigs)\n",
    "\n",
    "# ev_bins_df = bins.iloc[:, :3].copy()\n",
    "# ev_bins_df['bin_idx'] = ev_bins_df.index\n",
    "# for i, sample in enumerate(SAMPLES):\n",
    "#     ev_bins_df[f\"E1_{sample}\"] = eigen_data[i][1]['E1'].copy().to_numpy()\n",
    "\n",
    "# ev_bins_df.to_csv(f\"e1_{res_readeble}kb_pol.tsv\", sep=\"\\t\", index=False)"
   ]
  },
  {
   "cell_type": "code",
   "execution_count": 25,
   "metadata": {},
   "outputs": [],
   "source": [
    "n_bins = 1000\n",
    "for i, sample in enumerate(SAMPLES):\n",
    "    vec = ev_bins_df[f'E1_{sample}'].copy().to_numpy()\n",
    "    \n",
    "    vec = vec - np.nanmean(vec)\n",
    "\n",
    "    digits = digitize(vec, n_bins, qrange=q_range)\n",
    "    ev_bins_df[f\"E1_{sample}\"] = digits\n",
    "    \n",
    "    scaler = MinMaxScaler(feature_range=(-1, 1))\n",
    "    ev_bins_df[f\"E1_{sample}\"] = scaler.fit_transform(ev_bins_df[f\"E1_{sample}\"].values.reshape(-1, 1))\n",
    "    "
   ]
  },
  {
   "cell_type": "code",
   "execution_count": 26,
   "metadata": {},
   "outputs": [],
   "source": [
    "ev_bins_df.dropna(subset=[f\"E1_{sample}\" for sample in SAMPLES], inplace=True, how=\"all\")\n",
    "ev_bins_df.dropna(subset=[f\"E1_{sample}\" for sample in [ev_s1, ev_s2]], inplace=True, how=\"any\")"
   ]
  },
  {
   "cell_type": "code",
   "execution_count": 27,
   "metadata": {},
   "outputs": [],
   "source": [
    "# degs_df = pd.read_csv(f\"/home/carlos/oldies/projects/rna-seq/t{rna_s1}-t{rna_s2}.degs.tsv\", sep='\\t')\n",
    "# degs_df_non_sig = pd.read_csv(f\"/home/carlos/oldies/projects/rna-seq/t{rna_s1}-t{rna_s2}.degs_nonSig.tsv\", sep='\\t')\n",
    "\n",
    "degs_df = pd.read_csv(f\"/home/carlos/oldies/projects/rna-seq/t{rna_s1}-t{rna_s2}.greaterAbs.tsv\", sep='\\t')\n",
    "degs_df = degs_df[degs_df['log2FoldChange'].abs() >= .5]\n",
    "degs_df_non_sig = pd.read_csv(f\"/home/carlos/oldies/projects/rna-seq/t{rna_s1}-t{rna_s2}.lessAbs.tsv\", sep='\\t')\n",
    "degs_df_non_sig = degs_df_non_sig[degs_df_non_sig['log2FoldChange'].abs() < .5]"
   ]
  },
  {
   "cell_type": "code",
   "execution_count": 28,
   "metadata": {},
   "outputs": [
    {
     "data": {
      "text/plain": [
       "count    2068.000000\n",
       "mean        1.025024\n",
       "std         0.732868\n",
       "min         0.500073\n",
       "25%         0.597293\n",
       "50%         0.762865\n",
       "75%         1.146396\n",
       "max         9.316111\n",
       "Name: log2FoldChange, dtype: float64"
      ]
     },
     "execution_count": 28,
     "metadata": {},
     "output_type": "execute_result"
    }
   ],
   "source": [
    "degs_df.log2FoldChange.abs().describe()"
   ]
  },
  {
   "cell_type": "code",
   "execution_count": 29,
   "metadata": {},
   "outputs": [],
   "source": [
    "def parse_df(df):\n",
    "    df['chrom'] =[f\"chr{c}\" for c in df['chrom']]\n",
    "    df['start'] = df['start'].astype(int)\n",
    "    df['end'] = df['end'].astype(int)\n",
    "    df = df[['chrom','start','end', 'log2FoldChange', 'ensembl_gene_id', 'padj', 'strand']]\n",
    "    df['gene_size'] = df['end'] - df['start']\n",
    "    df['direction'] = np.sign(df['log2FoldChange'])\n",
    "    map_dict = {\n",
    "        1: 'Up-regulated',\n",
    "        -1: 'Down-regulated',\n",
    "    }\n",
    "    df['direction'] = df['direction'].map(map_dict)\n",
    "    return df"
   ]
  },
  {
   "cell_type": "code",
   "execution_count": 30,
   "metadata": {},
   "outputs": [],
   "source": [
    "degs_df = parse_df(degs_df.copy())\n",
    "degs_df_non_sig = parse_df(degs_df_non_sig.copy())\n",
    "degs_df['althypo'] = 'sig_DEGs'\n",
    "degs_df_non_sig['althypo'] = 'non_sig_DEGs'\n",
    "merged_degs_df = pd.concat([degs_df, degs_df_non_sig])\n",
    "\n",
    "overlap = bioframe.overlap(merged_degs_df, ev_bins_df, how='left', return_overlap=True)\n",
    "overlap['overlap_size'] = overlap.overlap_end - overlap.overlap_start\n",
    "overlap['sf'] = overlap['overlap_size'] / overlap['gene_size']\n",
    "\n",
    "e1_cols = [ f\"E1_{ev_s1}_\", f\"E1_{ev_s2}_\"]\n",
    "\n",
    "raw_df = {\n",
    "    'lfc': [],\n",
    "    f'ev_{ev_s1}': [],\n",
    "    f'ev_{ev_s2}': [],\n",
    "    'significance': [],\n",
    "    'dir': [],\n",
    "    'gene_id': [],\n",
    "    'althypo': [],\n",
    "}\n",
    "\n",
    "for i, subset_df in overlap.groupby('ensembl_gene_id').__iter__():\n",
    "    w_avg_cols = subset_df[e1_cols].apply(lambda x: np.ma.average(np.ma.MaskedArray(x, mask=np.isnan(x)), weights=subset_df['sf']), axis=0)\n",
    "\n",
    "    raw_df['lfc'].append(subset_df['log2FoldChange'].iloc[0])\n",
    "    raw_df[f'ev_{ev_s1}'].append(w_avg_cols[0])\n",
    "    raw_df[f'ev_{ev_s2}'].append(w_avg_cols[1])\n",
    "    raw_df['significance'].append(subset_df['padj'].iloc[0])\n",
    "    raw_df['dir'].append(subset_df['direction'].iloc[0])\n",
    "    raw_df['gene_id'].append(subset_df['ensembl_gene_id'].iloc[0])\n",
    "    raw_df['althypo'].append(subset_df['althypo'].iloc[0])"
   ]
  },
  {
   "cell_type": "code",
   "execution_count": 31,
   "metadata": {},
   "outputs": [
    {
     "name": "stderr",
     "output_type": "stream",
     "text": [
      "/home/carlos/micromamba/envs/gnn/lib/python3.11/site-packages/pandas/core/dtypes/astype.py:170: UserWarning: Warning: converting a masked element to nan.\n",
      "  return arr.astype(dtype, copy=True)\n",
      "INFO:matplotlib.category:Using categorical units to plot a list of strings that are all parsable as floats or dates. If these strings should be plotted as numbers, cast to the appropriate data type before plotting.\n",
      "INFO:matplotlib.category:Using categorical units to plot a list of strings that are all parsable as floats or dates. If these strings should be plotted as numbers, cast to the appropriate data type before plotting.\n",
      "/tmp/ipykernel_23827/240117085.py:42: UserWarning: FixedFormatter should only be used together with FixedLocator\n",
      "  ax.set_xticklabels([\"\"])\n"
     ]
    },
    {
     "name": "stdout",
     "output_type": "stream",
     "text": [
      "Pair: ('Down-regulated', 'Up-regulated'), p-value: 0.0008903287035517259, n_x1 = 1518, n_x2 = 317\n",
      "Pair: ('Down-regulated', 'Non-significant'), p-value: 0.021930927890674787, n_x1 = 1518, n_x2 = 4920\n",
      "Pair: ('Up-regulated', 'Non-significant'), p-value: 0.012550992860160846, n_x1 = 317, n_x2 = 4920\n"
     ]
    },
    {
     "data": {
      "image/png": "[encoded data removed]",
      "text/plain": [
       "<Figure size 576x720 with 1 Axes>"
      ]
     },
     "metadata": {
      "needs_background": "light"
     },
     "output_type": "display_data"
    }
   ],
   "source": [
    "avg_e1_df = pd.DataFrame(raw_df)\n",
    "\n",
    "n_random = 2000\n",
    "\n",
    "avg_e1_df.dropna(subset=[f'ev_{ev_s1}', f'ev_{ev_s2}'], inplace=True, how='any')\n",
    "avg_e1_df['ev_change'] = avg_e1_df[f'ev_{ev_s2}'].astype(float) - avg_e1_df[f'ev_{ev_s1}'].astype(float)\n",
    "avg_e1_df['window'] = 0\n",
    "\n",
    "avg_e1_df['plot_properties'] = avg_e1_df.dir.copy()\n",
    "avg_e1_df.loc[avg_e1_df.althypo == 'non_sig_DEGs', 'plot_properties'] = 'Non-significant'\n",
    "\n",
    "from statannotations.Annotator import Annotator\n",
    "\n",
    "order = [0]\n",
    "hue_order = [\"Down-regulated\", 'Non-significant' ,\"Up-regulated\"]\n",
    "x = \"window\"\n",
    "\n",
    "y = \"ev_change\"\n",
    "hue = \"plot_properties\"\n",
    "\n",
    "fig, ax = plt.subplots(figsize=(8, 10))\n",
    "\n",
    "avg_e1_df.plot_properties = pd.Categorical(avg_e1_df.plot_properties, categories=hue_order, ordered=True)\n",
    "\n",
    "# sns.swarmplot(data=avg_e1_df, x=x, y=y, order=order, hue=hue, hue_order=hue_order, \n",
    "#               palette=['#465775', '#A63446', '#edf2f4'], ax=ax, dodge=True, alpha=1)\n",
    "# ax = sns.boxplot(data=avg_e1_df, x=x, y=y, order=order, hue=hue, hue_order=hue_order, \n",
    "#                  showfliers=False, linewidth=2, palette=['black'], ax=ax, boxprops={'alpha': 0.7})\n",
    "\n",
    "# ax = sns.violinplot(data=avg_e1_df, x=x, y=y, order=order, hue=hue, hue_order=hue_order, \n",
    "#                  showfliers=False, linewidth=2, palette=['#465775', '#A63446', '#edf2f4'], ax=ax, )\n",
    "\n",
    "avg_e1_df.to_csv(f\"ev_change_{ev_s1}_{ev_s2}.tsv\", sep=\"\\t\", index=False)\n",
    "ax = sns.boxplot(data=avg_e1_df, x=x, y=y, order=order, hue=hue, hue_order=hue_order, showfliers=False, linewidth=2, palette=['#465775', '#edf2f4', '#A63446',], ax=ax, saturation=1)\n",
    "ax.axhline(0, ls='--', color='black', lw=1, alpha=0.5)\n",
    "\n",
    "ax.tick_params(axis='both', which='major', labelsize=15)\n",
    "ax.tick_params(axis='both', which='minor', labelsize=15)\n",
    "\n",
    "ax.set_ylabel(\"Change in EV\", fontsize=15)\n",
    "ax.set_xlabel(\"\")\n",
    "ax.set_xticklabels([\"\"])\n",
    "\n",
    "\n",
    "# add horizontal line\n",
    "\n",
    "# pairs = [\n",
    "#     ((0,\"Down-regulated\") , (0,\"Up-regulated\")),\n",
    "#     ((1,\"Down-regulated\") , (1,\"Up-regulated\")),\n",
    "#     ((2,\"Down-regulated\") , (2,\"Up-regulated\")),\n",
    "#     ((3,\"Down-regulated\") , (3,\"Up-regulated\"))\n",
    "#     ]\n",
    "\n",
    "pairs = [\n",
    "    (\"Down-regulated\" , \"Up-regulated\"),\n",
    "    (\"Down-regulated\" , \"Non-significant\"),\n",
    "    (\"Up-regulated\" , \"Non-significant\"),\n",
    "    ]\n",
    "\n",
    "from scipy.stats import mannwhitneyu\n",
    "\n",
    "for pair in pairs:\n",
    "    x1 = avg_e1_df.loc[avg_e1_df.plot_properties == pair[0], 'ev_change'].dropna()\n",
    "    x2 = avg_e1_df.loc[avg_e1_df.plot_properties == pair[1], 'ev_change'].dropna()\n",
    "    stat, p = mannwhitneyu(x1, x2)\n",
    "    print(f\"Pair: {pair}, p-value: {p}, n_x1 = {len(x1)}, n_x2 = {len(x2)}\")\n",
    "\n",
    "fig.savefig(f\"ev_change_{ev_s1}_{ev_s2}.svg\", bbox_inches='tight')"
   ]
  },
  {
   "cell_type": "code",
   "execution_count": 32,
   "metadata": {},
   "outputs": [
    {
     "data": {
      "text/plain": [
       "Non-significant    5365\n",
       "Down-regulated     1692\n",
       "Up-regulated        376\n",
       "Name: plot_properties, dtype: int64"
      ]
     },
     "execution_count": 32,
     "metadata": {},
     "output_type": "execute_result"
    }
   ],
   "source": [
    "avg_e1_df.plot_properties.value_counts()"
   ]
  }
 ],
 "metadata": {
  "kernelspec": {
   "display_name": "Python 3",
   "language": "python",
   "name": "python3"
  },
  "language_info": {
   "codemirror_mode": {
    "name": "ipython",
    "version": 3
   },
   "file_extension": ".py",
   "mimetype": "text/x-python",
   "name": "python",
   "nbconvert_exporter": "python",
   "pygments_lexer": "ipython3",
   "version": "3.11.0"
  }
 },
 "nbformat": 4,
 "nbformat_minor": 2
}
