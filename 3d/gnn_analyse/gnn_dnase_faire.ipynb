{
 "cells": [
  {
   "cell_type": "code",
   "execution_count": 1,
   "metadata": {},
   "outputs": [
    {
     "name": "stderr",
     "output_type": "stream",
     "text": [
      "/home/carlos/micromamba/envs/gnn/lib/python3.11/site-packages/cooltools/lib/numutils.py:651: NumbaDeprecationWarning: The 'nopython' keyword argument was not supplied to the 'numba.jit' decorator. The implicit default value for this argument is currently False, but it will be changed to True in Numba 0.59.0. See https://numba.readthedocs.io/en/stable/reference/deprecation.html#deprecation-of-object-mode-fall-back-behaviour-when-using-jit for details.\n",
      "  @numba.jit  # (nopython=True)\n",
      "/home/carlos/micromamba/envs/gnn/lib/python3.11/site-packages/cooltools/lib/numutils.py:726: NumbaDeprecationWarning: The 'nopython' keyword argument was not supplied to the 'numba.jit' decorator. The implicit default value for this argument is currently False, but it will be changed to True in Numba 0.59.0. See https://numba.readthedocs.io/en/stable/reference/deprecation.html#deprecation-of-object-mode-fall-back-behaviour-when-using-jit for details.\n",
      "  @numba.jit  # (nopython=True)\n"
     ]
    }
   ],
   "source": [
    "\n",
    "import cooler\n",
    "import cooltools\n",
    "from cooltools.api.saddle import _make_cis_obsexp_fetcher\n",
    "from cooltools.lib import numutils\n",
    "from coolpuppy import coolpup\n",
    "from coolpuppy.lib.puputils import divide_pups\n",
    "from coolpuppy import plotpup\n",
    "\n",
    "import bioframe\n",
    "import numpy as np\n",
    "import pandas as pd\n",
    "import bbi\n",
    "\n",
    "import seaborn as sns\n",
    "import matplotlib.pyplot as plt\n",
    "import itertools\n",
    "\n",
    "import multiprocessing\n",
    "\n",
    "import warnings\n",
    "warnings.filterwarnings(\"ignore\", category=RuntimeWarning)\n",
    "warnings.filterwarnings(\"ignore\", category=FutureWarning)\n"
   ]
  },
  {
   "cell_type": "code",
   "execution_count": 2,
   "metadata": {},
   "outputs": [],
   "source": [
    "NPROC = 4\n",
    "samples = [\"t0\", \"t12\"]\n",
    "clrs_ = [\n",
    "    cooler.Cooler(\n",
    "        f\"/home/carlos/oldies/manuscripts/notebooks/matrices/{sample}_q30.mcool::resolutions/10000\"\n",
    "    )\n",
    "    for sample in samples\n",
    "]"
   ]
  },
  {
   "cell_type": "code",
   "execution_count": 3,
   "metadata": {},
   "outputs": [],
   "source": [
    "res_path = \"/home/carlos/oldies/manuscripts/notebooks/gnn/results.tsv\"\n",
    "res = pd.read_csv(res_path, sep=\"\\t\")\n",
    "res = res.rename(columns={\"chr\": \"chrom\"})\n",
    "res = res.dropna(subset=['t0_q30-t12_q30', 't12_q30-t0_q30'], inplace=False)"
   ]
  },
  {
   "cell_type": "code",
   "execution_count": 4,
   "metadata": {},
   "outputs": [],
   "source": [
    "comps = list(itertools.product([0,1], [0,1]))\n"
   ]
  },
  {
   "cell_type": "code",
   "execution_count": 5,
   "metadata": {},
   "outputs": [],
   "source": [
    "flank = 500_000\n",
    "import itertools\n",
    "\n",
    "comps = list(itertools.product([0,1], [0,1]))\n",
    "\n",
    "filter_for_highest_quartile = False\n",
    "merge_regions = True\n",
    "\n",
    "regions_df_ = []\n",
    "for idx, (i1, i2) in enumerate(comps):\n",
    "    df = res.loc[(res['t0_q30-t12_q30-clf'] == i1) & (res['t12_q30-t0_q30-clf'] == i2)].copy()\n",
    "\n",
    "    if filter_for_highest_quartile:\n",
    "        if i1 == 0:\n",
    "            df = df.loc[df['t0_q30-t12_q30'] > df['t0_q30-t12_q30'].quantile(0.75)]\n",
    "        if i2 == 0:\n",
    "            df = df.loc[df['t12_q30-t0_q30'] > df['t12_q30-t0_q30'].quantile(0.75)]\n",
    "\n",
    "    if merge_regions:\n",
    "        merged_regions = bioframe.ops.merge(df, 0)\n",
    "        merged_regions['start'] = merged_regions.apply(lambda x: x['start'] + (x['end'] - x['start']) // 2 - 5000, axis=1)\n",
    "        merged_regions['end'] = merged_regions['start'] + 10000\n",
    "        merged_regions['comp'] = f\"{i1}-{i2}\"\n",
    "        regions_df_.append(merged_regions)\n",
    "\n",
    "regions_df = pd.concat(regions_df_)"
   ]
  },
  {
   "cell_type": "code",
   "execution_count": 6,
   "metadata": {},
   "outputs": [],
   "source": [
    "import data_handlers"
   ]
  },
  {
   "cell_type": "code",
   "execution_count": 7,
   "metadata": {},
   "outputs": [],
   "source": [
    "import bbi\n",
    "dnase_df = regions_df.copy()\n",
    "dnase_df['val'] = bbi.stackup(\"/home/carlos/oldies/manuscripts/notebooks/bws/dnase.rpkm.bw\", regions_df['chrom'], regions_df['start'], regions_df['end'], 1) / data_handlers.MEANS_BW['dnase']\n",
    "dnase_df['data_name'] = \"dnase\"\n",
    "\n",
    "faire_df = regions_df.copy()\n",
    "faire_df['val'] = bbi.stackup(\"/home/carlos/Downloads/ENCFF000TKE_hg38.bigWig\", regions_df['chrom'], regions_df['start'], regions_df['end'], 1).flatten() / data_handlers.MEANS_BW['faire']\n",
    "faire_df['data_name'] = \"faire\"\n",
    "\n",
    "data_df = pd.concat([dnase_df, faire_df])"
   ]
  },
  {
   "cell_type": "code",
   "execution_count": 12,
   "metadata": {},
   "outputs": [
    {
     "name": "stdout",
     "output_type": "stream",
     "text": [
      "0-0 (18666,)\n",
      "0-1 (20530,)\n",
      "1-0 (15356,)\n",
      "1-1 (25782,)\n",
      "p-value annotation legend:\n",
      "      ns: 5.00e-02 < p <= 1.00e+00\n",
      "       *: 1.00e-02 < p <= 5.00e-02\n",
      "      **: 1.00e-03 < p <= 1.00e-02\n",
      "     ***: 1.00e-04 < p <= 1.00e-03\n",
      "    ****: p <= 1.00e-04\n",
      "\n",
      "0-0 vs. 1-0: Mann-Whitney-Wilcoxon test two-sided, P_val:6.425e-08 U_stat=1.355e+08\n",
      "1-0 vs. 0-1: Mann-Whitney-Wilcoxon test two-sided, P_val:2.154e-93 U_stat=1.624e+08\n",
      "0-1 vs. 1-1: Mann-Whitney-Wilcoxon test two-sided, P_val:2.172e-07 U_stat=2.464e+08\n",
      "0-0 (18666,)\n",
      "0-1 (20530,)\n",
      "1-0 (15356,)\n",
      "1-1 (25782,)\n",
      "p-value annotation legend:\n",
      "      ns: 5.00e-02 < p <= 1.00e+00\n",
      "       *: 1.00e-02 < p <= 5.00e-02\n",
      "      **: 1.00e-03 < p <= 1.00e-02\n",
      "     ***: 1.00e-04 < p <= 1.00e-03\n",
      "    ****: p <= 1.00e-04\n",
      "\n",
      "0-0 vs. 1-0: Mann-Whitney-Wilcoxon test two-sided, P_val:1.920e-04 U_stat=1.467e+08\n",
      "1-0 vs. 0-1: Mann-Whitney-Wilcoxon test two-sided, P_val:1.232e-24 U_stat=1.676e+08\n",
      "0-1 vs. 1-1: Mann-Whitney-Wilcoxon test two-sided, P_val:1.147e-05 U_stat=2.709e+08\n"
     ]
    },
    {
     "data": {
      "image/png": "[encoded data removed]",
      "text/plain": [
       "<Figure size 1440x360 with 2 Axes>"
      ]
     },
     "metadata": {
      "needs_background": "light"
     },
     "output_type": "display_data"
    }
   ],
   "source": [
    "data_name_mapping_anchors = {\n",
    "    'dnase' : 'Pre-UV DNase-Seq Levels',\n",
    "    'faire' : 'Pre-UV Faire-Seq Levels'\n",
    "}\n",
    "fig, axs = plt.subplots(1, 2, figsize=(20, 5))\n",
    "s_colors = ['#465775', '#A63446', '#F5B841', '#9DBBAE']\n",
    "import itertools\n",
    "\n",
    "comp_dict = {'0-0': 'Comp. 1', '0-1': 'Comp. 2', '1-0': 'Comp. 3', '1-1': 'Comp. 4'}\n",
    "\n",
    "import numpy as np\n",
    "\n",
    "for i, data_name in enumerate(data_name_mapping_anchors):\n",
    "    ax = axs[i]\n",
    "    df_now = data_df.loc[data_df['data_name'] == data_name].copy()\n",
    "\n",
    "    medians_dict = {k: 0 for k in comp_dict.keys()}\n",
    "    # Calculate the means for each category\n",
    "    for k in comp_dict.keys():\n",
    "        print(k, df_now.loc[df_now['comp'] == k, 'val'].shape)\n",
    "        median_now = df_now.loc[df_now['comp'] == k, 'val'].median()\n",
    "        medians_dict[k] = median_now\n",
    "    medians_dict_sorted = dict(sorted(medians_dict.items(), key=lambda item: item[1], reverse=True))\n",
    "    \n",
    "    for k in medians_dict_sorted.keys():\n",
    "        df_now.loc[df_now['comp'] == k, 'median'] = medians_dict[k]\n",
    "\n",
    "    df_now.sort_values(by='median', ascending=False, inplace=True)\n",
    "    \n",
    "    # Plot the boxplots\n",
    "    sns.boxplot(data=df_now, x='comp', y='val', ax=ax, showfliers=False, palette=[\"#465775\"], notch=False)\n",
    "\n",
    "    # Plot the means as red lines connecting them\n",
    "    comp_order = df_now['comp'].unique()\n",
    "    x_positions = np.arange(len(comp_order))  # Get x-positions of the boxplots\n",
    "    means = [df_now.loc[df_now['comp'] == comp, 'val'].mean() for comp in comp_order]\n",
    "    ax.plot(x_positions, means, color='red', marker='o', linestyle='-', lw=1, label='Mean')\n",
    "\n",
    "    # Add statistical annotations\n",
    "    #pairs = list(itertools.combinations(df_now['comp'].unique(), 2))\n",
    "    pairs = [('0-0', '1-0'), ('1-0', '0-1'), ('0-1', '1-1')]\n",
    "    from statannotations.Annotator import Annotator\n",
    "    annotator = Annotator(ax, pairs, data=df_now, x='comp', y='val')\n",
    "    annotator.configure(test='Mann-Whitney', text_format='star', loc='inside', verbose=2)\n",
    "    annotator.apply_and_annotate()\n",
    "\n",
    "    # Customize plot appearance\n",
    "    #ax.set_title(f'{data_name_mapping_anchors[data_name]}', fontsize=18)\n",
    "    ax.set_ylabel(f'{data_name_mapping_anchors[data_name]}', fontsize=15)\n",
    "    ax.set_xlabel('')\n",
    "\n",
    "    # set xtick labels\n",
    "    ax.set_xticks(x_positions)\n",
    "    ax.set_xticklabels([comp_dict[comp] for comp in comp_order], fontsize=18)\n",
    "\n",
    "    ax.tick_params(axis='both', which='major', labelsize=12)\n",
    "    ax.tick_params(axis='both', which='minor', labelsize=12)\n",
    "\n",
    "fig.savefig(\"/home/carlos/oldies/manuscripts/review/reworked_figs/gnn_dnase_faire.png\", dpi=300, bbox_inches='tight')\n",
    "fig.savefig(\"/home/carlos/oldies/manuscripts/review/reworked_figs/gnn_dnase_faire.svg\", bbox_inches='tight')"
   ]
  },
  {
   "cell_type": "code",
   "execution_count": null,
   "metadata": {},
   "outputs": [],
   "source": []
  }
 ],
 "metadata": {
  "kernelspec": {
   "display_name": "Python 3",
   "language": "python",
   "name": "python3"
  },
  "language_info": {
   "codemirror_mode": {
    "name": "ipython",
    "version": 3
   },
   "file_extension": ".py",
   "mimetype": "text/x-python",
   "name": "python",
   "nbconvert_exporter": "python",
   "pygments_lexer": "ipython3",
   "version": "3.11.0"
  }
 },
 "nbformat": 4,
 "nbformat_minor": 2
}
