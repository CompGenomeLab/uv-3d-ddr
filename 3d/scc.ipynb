{
 "cells": [
  {
   "cell_type": "code",
   "execution_count": 3,
   "metadata": {},
   "outputs": [],
   "source": [
    "from hicrep import hicrepSCC\n",
    "from hicrep import *\n",
    "from hicrep.utils import readMcool\n",
    "import numpy as np\n",
    "from sklearn.manifold import MDS\n",
    "import pandas as pd\n",
    "\n",
    "import seaborn as sns\n",
    "import matplotlib.pyplot as plt\n",
    "\n",
    "# set figure and save dpi\n",
    "plt.rcParams['figure.dpi'] = 300\n",
    "plt.rcParams['savefig.dpi'] = 300"
   ]
  },
  {
   "cell_type": "code",
   "execution_count": 4,
   "metadata": {},
   "outputs": [],
   "source": [
    "chroms_lengths = pd.read_csv(\"/cta/users/vkaya/hi-c/work/hela/notebooks/hicrep/chrom.sizes.hg38\", sep=\"\\t\", header=None)\n",
    "chroms_lengths = np.array(chroms_lengths[1])"
   ]
  },
  {
   "cell_type": "code",
   "execution_count": 5,
   "metadata": {},
   "outputs": [],
   "source": [
    "def gridS(gridL, plot=False, save=False):    \n",
    "    end_result = []\n",
    "    nChr = 23\n",
    "    samples = [0, 12, 30, 60]\n",
    "    \n",
    "    for grid in gridL:\n",
    "        resolution = grid[0]\n",
    "        h = grid[1]\n",
    "        dBPMax = grid[2]\n",
    "        bDownSample = grid[3]\n",
    "        \n",
    "        calc_pairs = []\n",
    "        calc_pairs_scores = np.ones((len(samples), nChr*len(samples)))\n",
    "        \n",
    "        print(grid)\n",
    "        \n",
    "        corrV_perChr=[]\n",
    "        s1=[]\n",
    "        s2=[]\n",
    "        chrList=[]\n",
    "        for i1, sample1 in enumerate(samples):\n",
    "            for i2, sample2 in enumerate(samples):\n",
    "\n",
    "                comp = set([sample1, sample2])\n",
    "                \n",
    "                if comp not in calc_pairs and sample1 != sample2:\n",
    "                        print(comp, flush=True)\n",
    "\n",
    "                        fmcool1 = f\"/cta/users/vkaya/gnn/matrix/matrix/t{sample1}_q30.mcool\"\n",
    "                        fmcool2= f\"/cta/users/vkaya/gnn/matrix/matrix/t{sample2}_q30.mcool\"\n",
    "                        cool1, binSize1 = readMcool(fmcool1, resolution)\n",
    "                        cool2, binSize2 = readMcool(fmcool2, resolution)\n",
    "\n",
    "                        scc = hicrepSCC(cool1, cool2, h, dBPMax, bDownSample).reshape((1,nChr))\n",
    "                        calc_pairs_scores[i1, i2*nChr:i2*nChr+nChr] = scc\n",
    "                        calc_pairs_scores[i2, i1*nChr:i1*nChr+nChr] = scc\n",
    "                \n",
    "                        calc_pairs.append(comp)\n",
    "                    \n",
    "                        corrV_perChr += scc.flatten().tolist()\n",
    "                        s1 += [f\"su-{sample1}\" for i in range(nChr)]\n",
    "                        s2 += [f\"su-{sample2}\" for i in range(nChr)]\n",
    "                        chrList += [f\"chr{i}\" for i in range(1, nChr)] + [\"X\"]\n",
    "                        \n",
    "        perChr_df = pd.DataFrame({\"sample1\":s1, \"sample2\":s2, \"corrV\":corrV_perChr, \"chrId\": chrList})\n",
    "\n",
    "        \n",
    "        end_result.append(calc_pairs_scores)\n",
    "\n",
    "        mds = MDS(random_state=0)\n",
    "        _transformed = mds.fit_transform(calc_pairs_scores)\n",
    "        df = pd.DataFrame(_transformed, columns = [\"c1\", \"c2\"])\n",
    "        df[\"samples\"] = [str(i) for i in samples]\n",
    "        df[\"resolution\"] = [resolution for i in samples]\n",
    "        df[\"h\"] = [h for i in samples]\n",
    "        df[\"dBPMax\"] = [dBPMax for i in samples]\n",
    "        df[\"bDownSample\"] = [bDownSample for i in samples]\n",
    "        filename = f\"res{resolution}_h{h}_dBPMax{dBPMax}_bd{bDownSample}\"\n",
    "\n",
    "        if plot:\n",
    "            fig = px.scatter(df, y=\"c2\", x=\"c1\", color=\"samples\")\n",
    "            fig.update_traces(marker_size=10)    \n",
    "            fig.show()\n",
    "\n",
    "        if save and plot:\n",
    "            fig.write_html(f\"/home/vogulcan/hic-work/hicrep/figs/{filename}.html\")\n",
    "\n",
    "        if save:    \n",
    "            df.to_csv(f\"/home/vogulcan/hic-work/hicrep/figs/{filename}.csv\", index=False)\n",
    "        \n",
    "    return end_result, df, perChr_df\n",
    "\n",
    "\n",
    "def scc_all_weighted(scc_arr_List, chr_lens):\n",
    "    scc = scc_arr_List[0]\n",
    "    calc_pairs = []\n",
    "    \n",
    "    samples = [0, 12, 30, 60]\n",
    "    nChr = 23\n",
    "    \n",
    "    corr_heatmap = np.ones((4,4))\n",
    "    \n",
    "    s1 = []\n",
    "    s2 = []\n",
    "    corr = []\n",
    "    \n",
    "    for i1, sample1 in enumerate(samples):\n",
    "        for i2, sample2 in enumerate(samples):\n",
    "                comp = set([sample1, sample2])\n",
    "                if comp not in calc_pairs:# and sample1 != sample2:\n",
    "                    \n",
    "                    \n",
    "                    scc_current = scc[i1, i2*nChr:i2*nChr+nChr]\n",
    "                    scc_current_weigthed = np.average(scc_current, weights=chr_lens)\n",
    "                    corr_heatmap[i1, i2] = scc_current_weigthed\n",
    "                    corr_heatmap[i2, i1] = scc_current_weigthed\n",
    "                    \n",
    "                    s1.append(f\"{sample1}\")\n",
    "                    s2.append(f\"{sample2}\")\n",
    "                    corr.append(scc_current_weigthed)\n",
    "                    \n",
    "                    s1.append(f\"{sample2}\")\n",
    "                    s2.append(f\"{sample1}\")\n",
    "                    corr.append(scc_current_weigthed)\n",
    "                    \n",
    "                    calc_pairs.append(comp)\n",
    "    \n",
    "    return corr_heatmap, pd.DataFrame({\"sample1\":s1, \"sample2\":s2, \"corrV\":corr})"
   ]
  },
  {
   "cell_type": "code",
   "execution_count": 6,
   "metadata": {},
   "outputs": [
    {
     "name": "stdout",
     "output_type": "stream",
     "text": [
      "(50000, 5, 10000000, False)\n",
      "{0, 12}\n",
      "{0, 30}\n",
      "{0, 60}\n",
      "{12, 30}\n",
      "{12, 60}\n",
      "{60, 30}\n"
     ]
    },
    {
     "name": "stderr",
     "output_type": "stream",
     "text": [
      "/cta/users/vkaya/miniconda3/envs/gnn/lib/python3.11/site-packages/sklearn/manifold/_mds.py:298: FutureWarning: The default value of `normalized_stress` will change to `'auto'` in version 1.4. To suppress this warning, manually set the value of `normalized_stress`.\n",
      "  warnings.warn(\n"
     ]
    }
   ],
   "source": [
    "scc_all, mds_df, scc_perChr = gridS([\n",
    "    (50_000, 5, 10_000_000, False)], plot=False, save=False\n",
    ")"
   ]
  },
  {
   "cell_type": "code",
   "execution_count": 121,
   "metadata": {},
   "outputs": [
    {
     "data": {
      "image/png": "[encoded data removed]",
      "text/plain": [
       "<Figure size 432x288 with 2 Axes>"
      ]
     },
     "metadata": {},
     "output_type": "display_data"
    }
   ],
   "source": [
    "data = scc_all_weighted(scc_all, chroms_lengths)[0]\n",
    "data = data * 100\n",
    "\n",
    "cmp = sns.light_palette(\"#465775\", as_cmap=True)\n",
    "\n",
    "l = sns.heatmap(data, annot=True, cmap=cmp, annot_kws={\"size\": 8}, fmt=\".2f\")\n",
    "# set x tick labels\n",
    "l.set_xticklabels([\"Control\", \"12 min\", \"30 min\", \"60 min\"])\n",
    "l.set_yticklabels([\"Control\", \"12 min\", \"30 min\", \"60 min\"], rotation=0, va=\"center\")\n",
    "# save fig\n",
    "plt.savefig(\"scc_heatmap.svg\", bbox_inches=\"tight\")"
   ]
  },
  {
   "cell_type": "code",
   "execution_count": 124,
   "metadata": {},
   "outputs": [
    {
     "data": {
      "image/png": "[encoded data removed]",
      "text/plain": [
       "<Figure size 432x288 with 1 Axes>"
      ]
     },
     "metadata": {},
     "output_type": "display_data"
    }
   ],
   "source": [
    "mds_df['Samples'] = ['Control', '12 min', '30 min', '60 min']\n",
    "mds_df['MDS1'] = mds_df['c1']\n",
    "mds_df['MDS2'] = mds_df['c2']\n",
    "l = sns.scatterplot(data=mds_df, x=\"MDS1\", y=\"MDS2\", hue=\"Samples\", s=500, palette=[\"#465775\", \"#A63446\", \"#F5B841\", \"#9DBBAE\"])\n",
    "\n",
    "l.set_xlim(-0.5, 0.5)\n",
    "l.set_ylim(-0.4, 0.4)\n",
    "\n",
    "\n",
    "control_x = mds_df[mds_df[\"Samples\"] == \"Control\"][\"MDS1\"].values[0]\n",
    "control_y = mds_df[mds_df[\"Samples\"] == \"Control\"][\"MDS2\"].values[0]\n",
    "\n",
    "min60_x = mds_df[mds_df[\"Samples\"] == \"60 min\"][\"MDS1\"].values[0]\n",
    "min60_y = mds_df[mds_df[\"Samples\"] == \"60 min\"][\"MDS2\"].values[0]\n",
    "\n",
    "l.annotate(\"\", xy=(control_x + 0.08, control_y + 0.05), xytext=(min60_x - 0.08, min60_y - 0.043), arrowprops=dict(arrowstyle=\"<-\", color=\"black\", lw=3))\n",
    "\n",
    "l.legend(loc='upper left', bbox_to_anchor=(1.05, 1), borderaxespad=0, fontsize=15, markerscale=0.5)\n",
    "\n",
    "# save fig\n",
    "plt.savefig(\"scc_mds.svg\", bbox_inches=\"tight\")"
   ]
  }
 ],
 "metadata": {
  "kernelspec": {
   "display_name": "gnn",
   "language": "python",
   "name": "python3"
  },
  "language_info": {
   "codemirror_mode": {
    "name": "ipython",
    "version": 3
   },
   "file_extension": ".py",
   "mimetype": "text/x-python",
   "name": "python",
   "nbconvert_exporter": "python",
   "pygments_lexer": "ipython3",
   "version": "3.11.0"
  }
 },
 "nbformat": 4,
 "nbformat_minor": 2
}
